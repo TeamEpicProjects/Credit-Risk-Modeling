{
  "nbformat": 4,
  "nbformat_minor": 0,
  "metadata": {
    "colab": {
      "name": "Credit Risk  Modeling Final .ipynb",
      "provenance": [],
      "collapsed_sections": [
        "9Fo8cXk9Ku0u",
        "uAep6SQZK_OF",
        "piRhJaunZL0A",
        "-8Xe1iLTZ7Z1",
        "kwx8xwj9aSM4",
        "IKyit-S6Z23u",
        "8woHKyjMv59D",
        "0Z9WACGzvNTA",
        "fMhrH6CYzAtX"
      ]
    },
    "kernelspec": {
      "display_name": "Python 3",
      "name": "python3"
    },
    "language_info": {
      "name": "python"
    },
    "widgets": {
      "application/vnd.jupyter.widget-state+json": {
        "e3070dedd5f24173938f3c03a8acf6dd": {
          "model_module": "@jupyter-widgets/controls",
          "model_name": "HBoxModel",
          "model_module_version": "1.5.0",
          "state": {
            "_view_name": "HBoxView",
            "_dom_classes": [],
            "_model_name": "HBoxModel",
            "_view_module": "@jupyter-widgets/controls",
            "_model_module_version": "1.5.0",
            "_view_count": null,
            "_view_module_version": "1.5.0",
            "box_style": "",
            "layout": "IPY_MODEL_53f4bf4053ff4a1aa2015377cc0c5a02",
            "_model_module": "@jupyter-widgets/controls",
            "children": [
              "IPY_MODEL_142ea76a8cec402080c9b64afa7045ca",
              "IPY_MODEL_6c38fcd2749b417ca2b90c26393c25df",
              "IPY_MODEL_d32fe0c35cfb4831a6a783af4ccadeb8"
            ]
          }
        },
        "53f4bf4053ff4a1aa2015377cc0c5a02": {
          "model_module": "@jupyter-widgets/base",
          "model_name": "LayoutModel",
          "model_module_version": "1.2.0",
          "state": {
            "_view_name": "LayoutView",
            "grid_template_rows": null,
            "right": null,
            "justify_content": null,
            "_view_module": "@jupyter-widgets/base",
            "overflow": null,
            "_model_module_version": "1.2.0",
            "_view_count": null,
            "flex_flow": null,
            "width": null,
            "min_width": null,
            "border": null,
            "align_items": null,
            "bottom": null,
            "_model_module": "@jupyter-widgets/base",
            "top": null,
            "grid_column": null,
            "overflow_y": null,
            "overflow_x": null,
            "grid_auto_flow": null,
            "grid_area": null,
            "grid_template_columns": null,
            "flex": null,
            "_model_name": "LayoutModel",
            "justify_items": null,
            "grid_row": null,
            "max_height": null,
            "align_content": null,
            "visibility": null,
            "align_self": null,
            "height": null,
            "min_height": null,
            "padding": null,
            "grid_auto_rows": null,
            "grid_gap": null,
            "max_width": null,
            "order": null,
            "_view_module_version": "1.2.0",
            "grid_template_areas": null,
            "object_position": null,
            "object_fit": null,
            "grid_auto_columns": null,
            "margin": null,
            "display": null,
            "left": null
          }
        },
        "142ea76a8cec402080c9b64afa7045ca": {
          "model_module": "@jupyter-widgets/controls",
          "model_name": "HTMLModel",
          "model_module_version": "1.5.0",
          "state": {
            "_view_name": "HTMLView",
            "style": "IPY_MODEL_8bbaa4f3bb9f4197ad204e8cadda7847",
            "_dom_classes": [],
            "description": "",
            "_model_name": "HTMLModel",
            "placeholder": "​",
            "_view_module": "@jupyter-widgets/controls",
            "_model_module_version": "1.5.0",
            "value": "Summarize dataset: 100%",
            "_view_count": null,
            "_view_module_version": "1.5.0",
            "description_tooltip": null,
            "_model_module": "@jupyter-widgets/controls",
            "layout": "IPY_MODEL_7135c2b029894ef5808a46ab4e12af5f"
          }
        },
        "6c38fcd2749b417ca2b90c26393c25df": {
          "model_module": "@jupyter-widgets/controls",
          "model_name": "FloatProgressModel",
          "model_module_version": "1.5.0",
          "state": {
            "_view_name": "ProgressView",
            "style": "IPY_MODEL_d8819356b04d41dd9fb4b9cb1e938810",
            "_dom_classes": [],
            "description": "",
            "_model_name": "FloatProgressModel",
            "bar_style": "success",
            "max": 5,
            "_view_module": "@jupyter-widgets/controls",
            "_model_module_version": "1.5.0",
            "value": 5,
            "_view_count": null,
            "_view_module_version": "1.5.0",
            "orientation": "horizontal",
            "min": 0,
            "description_tooltip": null,
            "_model_module": "@jupyter-widgets/controls",
            "layout": "IPY_MODEL_e2fff60e44e54955875214a4893f754b"
          }
        },
        "d32fe0c35cfb4831a6a783af4ccadeb8": {
          "model_module": "@jupyter-widgets/controls",
          "model_name": "HTMLModel",
          "model_module_version": "1.5.0",
          "state": {
            "_view_name": "HTMLView",
            "style": "IPY_MODEL_21e4fc02f5d84dec973b15bebc964e78",
            "_dom_classes": [],
            "description": "",
            "_model_name": "HTMLModel",
            "placeholder": "​",
            "_view_module": "@jupyter-widgets/controls",
            "_model_module_version": "1.5.0",
            "value": " 161/161 [00:08&lt;00:00, 22.64it/s, Completed]",
            "_view_count": null,
            "_view_module_version": "1.5.0",
            "description_tooltip": null,
            "_model_module": "@jupyter-widgets/controls",
            "layout": "IPY_MODEL_e9af99b0f4d64c14b9da8d23bcfec16b"
          }
        },
        "8bbaa4f3bb9f4197ad204e8cadda7847": {
          "model_module": "@jupyter-widgets/controls",
          "model_name": "DescriptionStyleModel",
          "model_module_version": "1.5.0",
          "state": {
            "_view_name": "StyleView",
            "_model_name": "DescriptionStyleModel",
            "description_width": "",
            "_view_module": "@jupyter-widgets/base",
            "_model_module_version": "1.5.0",
            "_view_count": null,
            "_view_module_version": "1.2.0",
            "_model_module": "@jupyter-widgets/controls"
          }
        },
        "7135c2b029894ef5808a46ab4e12af5f": {
          "model_module": "@jupyter-widgets/base",
          "model_name": "LayoutModel",
          "model_module_version": "1.2.0",
          "state": {
            "_view_name": "LayoutView",
            "grid_template_rows": null,
            "right": null,
            "justify_content": null,
            "_view_module": "@jupyter-widgets/base",
            "overflow": null,
            "_model_module_version": "1.2.0",
            "_view_count": null,
            "flex_flow": null,
            "width": null,
            "min_width": null,
            "border": null,
            "align_items": null,
            "bottom": null,
            "_model_module": "@jupyter-widgets/base",
            "top": null,
            "grid_column": null,
            "overflow_y": null,
            "overflow_x": null,
            "grid_auto_flow": null,
            "grid_area": null,
            "grid_template_columns": null,
            "flex": null,
            "_model_name": "LayoutModel",
            "justify_items": null,
            "grid_row": null,
            "max_height": null,
            "align_content": null,
            "visibility": null,
            "align_self": null,
            "height": null,
            "min_height": null,
            "padding": null,
            "grid_auto_rows": null,
            "grid_gap": null,
            "max_width": null,
            "order": null,
            "_view_module_version": "1.2.0",
            "grid_template_areas": null,
            "object_position": null,
            "object_fit": null,
            "grid_auto_columns": null,
            "margin": null,
            "display": null,
            "left": null
          }
        },
        "d8819356b04d41dd9fb4b9cb1e938810": {
          "model_module": "@jupyter-widgets/controls",
          "model_name": "ProgressStyleModel",
          "model_module_version": "1.5.0",
          "state": {
            "_view_name": "StyleView",
            "_model_name": "ProgressStyleModel",
            "description_width": "",
            "_view_module": "@jupyter-widgets/base",
            "_model_module_version": "1.5.0",
            "_view_count": null,
            "_view_module_version": "1.2.0",
            "bar_color": null,
            "_model_module": "@jupyter-widgets/controls"
          }
        },
        "e2fff60e44e54955875214a4893f754b": {
          "model_module": "@jupyter-widgets/base",
          "model_name": "LayoutModel",
          "model_module_version": "1.2.0",
          "state": {
            "_view_name": "LayoutView",
            "grid_template_rows": null,
            "right": null,
            "justify_content": null,
            "_view_module": "@jupyter-widgets/base",
            "overflow": null,
            "_model_module_version": "1.2.0",
            "_view_count": null,
            "flex_flow": null,
            "width": null,
            "min_width": null,
            "border": null,
            "align_items": null,
            "bottom": null,
            "_model_module": "@jupyter-widgets/base",
            "top": null,
            "grid_column": null,
            "overflow_y": null,
            "overflow_x": null,
            "grid_auto_flow": null,
            "grid_area": null,
            "grid_template_columns": null,
            "flex": null,
            "_model_name": "LayoutModel",
            "justify_items": null,
            "grid_row": null,
            "max_height": null,
            "align_content": null,
            "visibility": null,
            "align_self": null,
            "height": null,
            "min_height": null,
            "padding": null,
            "grid_auto_rows": null,
            "grid_gap": null,
            "max_width": null,
            "order": null,
            "_view_module_version": "1.2.0",
            "grid_template_areas": null,
            "object_position": null,
            "object_fit": null,
            "grid_auto_columns": null,
            "margin": null,
            "display": null,
            "left": null
          }
        },
        "21e4fc02f5d84dec973b15bebc964e78": {
          "model_module": "@jupyter-widgets/controls",
          "model_name": "DescriptionStyleModel",
          "model_module_version": "1.5.0",
          "state": {
            "_view_name": "StyleView",
            "_model_name": "DescriptionStyleModel",
            "description_width": "",
            "_view_module": "@jupyter-widgets/base",
            "_model_module_version": "1.5.0",
            "_view_count": null,
            "_view_module_version": "1.2.0",
            "_model_module": "@jupyter-widgets/controls"
          }
        },
        "e9af99b0f4d64c14b9da8d23bcfec16b": {
          "model_module": "@jupyter-widgets/base",
          "model_name": "LayoutModel",
          "model_module_version": "1.2.0",
          "state": {
            "_view_name": "LayoutView",
            "grid_template_rows": null,
            "right": null,
            "justify_content": null,
            "_view_module": "@jupyter-widgets/base",
            "overflow": null,
            "_model_module_version": "1.2.0",
            "_view_count": null,
            "flex_flow": null,
            "width": null,
            "min_width": null,
            "border": null,
            "align_items": null,
            "bottom": null,
            "_model_module": "@jupyter-widgets/base",
            "top": null,
            "grid_column": null,
            "overflow_y": null,
            "overflow_x": null,
            "grid_auto_flow": null,
            "grid_area": null,
            "grid_template_columns": null,
            "flex": null,
            "_model_name": "LayoutModel",
            "justify_items": null,
            "grid_row": null,
            "max_height": null,
            "align_content": null,
            "visibility": null,
            "align_self": null,
            "height": null,
            "min_height": null,
            "padding": null,
            "grid_auto_rows": null,
            "grid_gap": null,
            "max_width": null,
            "order": null,
            "_view_module_version": "1.2.0",
            "grid_template_areas": null,
            "object_position": null,
            "object_fit": null,
            "grid_auto_columns": null,
            "margin": null,
            "display": null,
            "left": null
          }
        },
        "96dca9c8bca64841a6d1f183a627dd41": {
          "model_module": "@jupyter-widgets/controls",
          "model_name": "HBoxModel",
          "model_module_version": "1.5.0",
          "state": {
            "_view_name": "HBoxView",
            "_dom_classes": [],
            "_model_name": "HBoxModel",
            "_view_module": "@jupyter-widgets/controls",
            "_model_module_version": "1.5.0",
            "_view_count": null,
            "_view_module_version": "1.5.0",
            "box_style": "",
            "layout": "IPY_MODEL_48c76e3413004697b58a4c286b756a62",
            "_model_module": "@jupyter-widgets/controls",
            "children": [
              "IPY_MODEL_da267b82f32c4973a5338bddca09762b",
              "IPY_MODEL_e4af46b183a6444eb7f3d2a1e049e134",
              "IPY_MODEL_8a38ae4255724be1bf04dc01f78ae999"
            ]
          }
        },
        "48c76e3413004697b58a4c286b756a62": {
          "model_module": "@jupyter-widgets/base",
          "model_name": "LayoutModel",
          "model_module_version": "1.2.0",
          "state": {
            "_view_name": "LayoutView",
            "grid_template_rows": null,
            "right": null,
            "justify_content": null,
            "_view_module": "@jupyter-widgets/base",
            "overflow": null,
            "_model_module_version": "1.2.0",
            "_view_count": null,
            "flex_flow": null,
            "width": null,
            "min_width": null,
            "border": null,
            "align_items": null,
            "bottom": null,
            "_model_module": "@jupyter-widgets/base",
            "top": null,
            "grid_column": null,
            "overflow_y": null,
            "overflow_x": null,
            "grid_auto_flow": null,
            "grid_area": null,
            "grid_template_columns": null,
            "flex": null,
            "_model_name": "LayoutModel",
            "justify_items": null,
            "grid_row": null,
            "max_height": null,
            "align_content": null,
            "visibility": null,
            "align_self": null,
            "height": null,
            "min_height": null,
            "padding": null,
            "grid_auto_rows": null,
            "grid_gap": null,
            "max_width": null,
            "order": null,
            "_view_module_version": "1.2.0",
            "grid_template_areas": null,
            "object_position": null,
            "object_fit": null,
            "grid_auto_columns": null,
            "margin": null,
            "display": null,
            "left": null
          }
        },
        "da267b82f32c4973a5338bddca09762b": {
          "model_module": "@jupyter-widgets/controls",
          "model_name": "HTMLModel",
          "model_module_version": "1.5.0",
          "state": {
            "_view_name": "HTMLView",
            "style": "IPY_MODEL_47557654dc3b40418d9ca1823f8abd71",
            "_dom_classes": [],
            "description": "",
            "_model_name": "HTMLModel",
            "placeholder": "​",
            "_view_module": "@jupyter-widgets/controls",
            "_model_module_version": "1.5.0",
            "value": "Generate report structure: 100%",
            "_view_count": null,
            "_view_module_version": "1.5.0",
            "description_tooltip": null,
            "_model_module": "@jupyter-widgets/controls",
            "layout": "IPY_MODEL_5feb0d74d45a4763a38f0412f9ba49bf"
          }
        },
        "e4af46b183a6444eb7f3d2a1e049e134": {
          "model_module": "@jupyter-widgets/controls",
          "model_name": "FloatProgressModel",
          "model_module_version": "1.5.0",
          "state": {
            "_view_name": "ProgressView",
            "style": "IPY_MODEL_8c752d838c46495bb8318da158b81825",
            "_dom_classes": [],
            "description": "",
            "_model_name": "FloatProgressModel",
            "bar_style": "success",
            "max": 1,
            "_view_module": "@jupyter-widgets/controls",
            "_model_module_version": "1.5.0",
            "value": 1,
            "_view_count": null,
            "_view_module_version": "1.5.0",
            "orientation": "horizontal",
            "min": 0,
            "description_tooltip": null,
            "_model_module": "@jupyter-widgets/controls",
            "layout": "IPY_MODEL_be5780470f9a4161b0e0c31fdf2ca8f7"
          }
        },
        "8a38ae4255724be1bf04dc01f78ae999": {
          "model_module": "@jupyter-widgets/controls",
          "model_name": "HTMLModel",
          "model_module_version": "1.5.0",
          "state": {
            "_view_name": "HTMLView",
            "style": "IPY_MODEL_3873381d04a347939bcdf040d105fb13",
            "_dom_classes": [],
            "description": "",
            "_model_name": "HTMLModel",
            "placeholder": "​",
            "_view_module": "@jupyter-widgets/controls",
            "_model_module_version": "1.5.0",
            "value": " 1/1 [01:24&lt;00:00, 84.96s/it]",
            "_view_count": null,
            "_view_module_version": "1.5.0",
            "description_tooltip": null,
            "_model_module": "@jupyter-widgets/controls",
            "layout": "IPY_MODEL_92c4ec7ceeec4579b8c5384dca08d077"
          }
        },
        "47557654dc3b40418d9ca1823f8abd71": {
          "model_module": "@jupyter-widgets/controls",
          "model_name": "DescriptionStyleModel",
          "model_module_version": "1.5.0",
          "state": {
            "_view_name": "StyleView",
            "_model_name": "DescriptionStyleModel",
            "description_width": "",
            "_view_module": "@jupyter-widgets/base",
            "_model_module_version": "1.5.0",
            "_view_count": null,
            "_view_module_version": "1.2.0",
            "_model_module": "@jupyter-widgets/controls"
          }
        },
        "5feb0d74d45a4763a38f0412f9ba49bf": {
          "model_module": "@jupyter-widgets/base",
          "model_name": "LayoutModel",
          "model_module_version": "1.2.0",
          "state": {
            "_view_name": "LayoutView",
            "grid_template_rows": null,
            "right": null,
            "justify_content": null,
            "_view_module": "@jupyter-widgets/base",
            "overflow": null,
            "_model_module_version": "1.2.0",
            "_view_count": null,
            "flex_flow": null,
            "width": null,
            "min_width": null,
            "border": null,
            "align_items": null,
            "bottom": null,
            "_model_module": "@jupyter-widgets/base",
            "top": null,
            "grid_column": null,
            "overflow_y": null,
            "overflow_x": null,
            "grid_auto_flow": null,
            "grid_area": null,
            "grid_template_columns": null,
            "flex": null,
            "_model_name": "LayoutModel",
            "justify_items": null,
            "grid_row": null,
            "max_height": null,
            "align_content": null,
            "visibility": null,
            "align_self": null,
            "height": null,
            "min_height": null,
            "padding": null,
            "grid_auto_rows": null,
            "grid_gap": null,
            "max_width": null,
            "order": null,
            "_view_module_version": "1.2.0",
            "grid_template_areas": null,
            "object_position": null,
            "object_fit": null,
            "grid_auto_columns": null,
            "margin": null,
            "display": null,
            "left": null
          }
        },
        "8c752d838c46495bb8318da158b81825": {
          "model_module": "@jupyter-widgets/controls",
          "model_name": "ProgressStyleModel",
          "model_module_version": "1.5.0",
          "state": {
            "_view_name": "StyleView",
            "_model_name": "ProgressStyleModel",
            "description_width": "",
            "_view_module": "@jupyter-widgets/base",
            "_model_module_version": "1.5.0",
            "_view_count": null,
            "_view_module_version": "1.2.0",
            "bar_color": null,
            "_model_module": "@jupyter-widgets/controls"
          }
        },
        "be5780470f9a4161b0e0c31fdf2ca8f7": {
          "model_module": "@jupyter-widgets/base",
          "model_name": "LayoutModel",
          "model_module_version": "1.2.0",
          "state": {
            "_view_name": "LayoutView",
            "grid_template_rows": null,
            "right": null,
            "justify_content": null,
            "_view_module": "@jupyter-widgets/base",
            "overflow": null,
            "_model_module_version": "1.2.0",
            "_view_count": null,
            "flex_flow": null,
            "width": null,
            "min_width": null,
            "border": null,
            "align_items": null,
            "bottom": null,
            "_model_module": "@jupyter-widgets/base",
            "top": null,
            "grid_column": null,
            "overflow_y": null,
            "overflow_x": null,
            "grid_auto_flow": null,
            "grid_area": null,
            "grid_template_columns": null,
            "flex": null,
            "_model_name": "LayoutModel",
            "justify_items": null,
            "grid_row": null,
            "max_height": null,
            "align_content": null,
            "visibility": null,
            "align_self": null,
            "height": null,
            "min_height": null,
            "padding": null,
            "grid_auto_rows": null,
            "grid_gap": null,
            "max_width": null,
            "order": null,
            "_view_module_version": "1.2.0",
            "grid_template_areas": null,
            "object_position": null,
            "object_fit": null,
            "grid_auto_columns": null,
            "margin": null,
            "display": null,
            "left": null
          }
        },
        "3873381d04a347939bcdf040d105fb13": {
          "model_module": "@jupyter-widgets/controls",
          "model_name": "DescriptionStyleModel",
          "model_module_version": "1.5.0",
          "state": {
            "_view_name": "StyleView",
            "_model_name": "DescriptionStyleModel",
            "description_width": "",
            "_view_module": "@jupyter-widgets/base",
            "_model_module_version": "1.5.0",
            "_view_count": null,
            "_view_module_version": "1.2.0",
            "_model_module": "@jupyter-widgets/controls"
          }
        },
        "92c4ec7ceeec4579b8c5384dca08d077": {
          "model_module": "@jupyter-widgets/base",
          "model_name": "LayoutModel",
          "model_module_version": "1.2.0",
          "state": {
            "_view_name": "LayoutView",
            "grid_template_rows": null,
            "right": null,
            "justify_content": null,
            "_view_module": "@jupyter-widgets/base",
            "overflow": null,
            "_model_module_version": "1.2.0",
            "_view_count": null,
            "flex_flow": null,
            "width": null,
            "min_width": null,
            "border": null,
            "align_items": null,
            "bottom": null,
            "_model_module": "@jupyter-widgets/base",
            "top": null,
            "grid_column": null,
            "overflow_y": null,
            "overflow_x": null,
            "grid_auto_flow": null,
            "grid_area": null,
            "grid_template_columns": null,
            "flex": null,
            "_model_name": "LayoutModel",
            "justify_items": null,
            "grid_row": null,
            "max_height": null,
            "align_content": null,
            "visibility": null,
            "align_self": null,
            "height": null,
            "min_height": null,
            "padding": null,
            "grid_auto_rows": null,
            "grid_gap": null,
            "max_width": null,
            "order": null,
            "_view_module_version": "1.2.0",
            "grid_template_areas": null,
            "object_position": null,
            "object_fit": null,
            "grid_auto_columns": null,
            "margin": null,
            "display": null,
            "left": null
          }
        },
        "10da73c92af449e8b7855baa209690e0": {
          "model_module": "@jupyter-widgets/controls",
          "model_name": "HBoxModel",
          "model_module_version": "1.5.0",
          "state": {
            "_view_name": "HBoxView",
            "_dom_classes": [],
            "_model_name": "HBoxModel",
            "_view_module": "@jupyter-widgets/controls",
            "_model_module_version": "1.5.0",
            "_view_count": null,
            "_view_module_version": "1.5.0",
            "box_style": "",
            "layout": "IPY_MODEL_d1ea53f399124819a0c37ae3616c4a47",
            "_model_module": "@jupyter-widgets/controls",
            "children": [
              "IPY_MODEL_f530827a5e184be2811adaa01acece72",
              "IPY_MODEL_c2d824539b54478a957d333f43fff103",
              "IPY_MODEL_28501bf642974312bbc9780aa96d0020"
            ]
          }
        },
        "d1ea53f399124819a0c37ae3616c4a47": {
          "model_module": "@jupyter-widgets/base",
          "model_name": "LayoutModel",
          "model_module_version": "1.2.0",
          "state": {
            "_view_name": "LayoutView",
            "grid_template_rows": null,
            "right": null,
            "justify_content": null,
            "_view_module": "@jupyter-widgets/base",
            "overflow": null,
            "_model_module_version": "1.2.0",
            "_view_count": null,
            "flex_flow": null,
            "width": null,
            "min_width": null,
            "border": null,
            "align_items": null,
            "bottom": null,
            "_model_module": "@jupyter-widgets/base",
            "top": null,
            "grid_column": null,
            "overflow_y": null,
            "overflow_x": null,
            "grid_auto_flow": null,
            "grid_area": null,
            "grid_template_columns": null,
            "flex": null,
            "_model_name": "LayoutModel",
            "justify_items": null,
            "grid_row": null,
            "max_height": null,
            "align_content": null,
            "visibility": null,
            "align_self": null,
            "height": null,
            "min_height": null,
            "padding": null,
            "grid_auto_rows": null,
            "grid_gap": null,
            "max_width": null,
            "order": null,
            "_view_module_version": "1.2.0",
            "grid_template_areas": null,
            "object_position": null,
            "object_fit": null,
            "grid_auto_columns": null,
            "margin": null,
            "display": null,
            "left": null
          }
        },
        "f530827a5e184be2811adaa01acece72": {
          "model_module": "@jupyter-widgets/controls",
          "model_name": "HTMLModel",
          "model_module_version": "1.5.0",
          "state": {
            "_view_name": "HTMLView",
            "style": "IPY_MODEL_276ee07be22248ef90241c4b58ac37c9",
            "_dom_classes": [],
            "description": "",
            "_model_name": "HTMLModel",
            "placeholder": "​",
            "_view_module": "@jupyter-widgets/controls",
            "_model_module_version": "1.5.0",
            "value": "Render HTML: 100%",
            "_view_count": null,
            "_view_module_version": "1.5.0",
            "description_tooltip": null,
            "_model_module": "@jupyter-widgets/controls",
            "layout": "IPY_MODEL_6811c603c4c5433e80f32e76157b4d0d"
          }
        },
        "c2d824539b54478a957d333f43fff103": {
          "model_module": "@jupyter-widgets/controls",
          "model_name": "FloatProgressModel",
          "model_module_version": "1.5.0",
          "state": {
            "_view_name": "ProgressView",
            "style": "IPY_MODEL_08d46ccc088a4d70a4c251ae6e1d792e",
            "_dom_classes": [],
            "description": "",
            "_model_name": "FloatProgressModel",
            "bar_style": "success",
            "max": 1,
            "_view_module": "@jupyter-widgets/controls",
            "_model_module_version": "1.5.0",
            "value": 1,
            "_view_count": null,
            "_view_module_version": "1.5.0",
            "orientation": "horizontal",
            "min": 0,
            "description_tooltip": null,
            "_model_module": "@jupyter-widgets/controls",
            "layout": "IPY_MODEL_e4d47f0094834925811aa01c8ed0ff51"
          }
        },
        "28501bf642974312bbc9780aa96d0020": {
          "model_module": "@jupyter-widgets/controls",
          "model_name": "HTMLModel",
          "model_module_version": "1.5.0",
          "state": {
            "_view_name": "HTMLView",
            "style": "IPY_MODEL_a4869b7db9bd4655b2b0feb9915d07c3",
            "_dom_classes": [],
            "description": "",
            "_model_name": "HTMLModel",
            "placeholder": "​",
            "_view_module": "@jupyter-widgets/controls",
            "_model_module_version": "1.5.0",
            "value": " 1/1 [00:04&lt;00:00,  4.38s/it]",
            "_view_count": null,
            "_view_module_version": "1.5.0",
            "description_tooltip": null,
            "_model_module": "@jupyter-widgets/controls",
            "layout": "IPY_MODEL_4bedb1c901f24c1787450b42e1bd8f93"
          }
        },
        "276ee07be22248ef90241c4b58ac37c9": {
          "model_module": "@jupyter-widgets/controls",
          "model_name": "DescriptionStyleModel",
          "model_module_version": "1.5.0",
          "state": {
            "_view_name": "StyleView",
            "_model_name": "DescriptionStyleModel",
            "description_width": "",
            "_view_module": "@jupyter-widgets/base",
            "_model_module_version": "1.5.0",
            "_view_count": null,
            "_view_module_version": "1.2.0",
            "_model_module": "@jupyter-widgets/controls"
          }
        },
        "6811c603c4c5433e80f32e76157b4d0d": {
          "model_module": "@jupyter-widgets/base",
          "model_name": "LayoutModel",
          "model_module_version": "1.2.0",
          "state": {
            "_view_name": "LayoutView",
            "grid_template_rows": null,
            "right": null,
            "justify_content": null,
            "_view_module": "@jupyter-widgets/base",
            "overflow": null,
            "_model_module_version": "1.2.0",
            "_view_count": null,
            "flex_flow": null,
            "width": null,
            "min_width": null,
            "border": null,
            "align_items": null,
            "bottom": null,
            "_model_module": "@jupyter-widgets/base",
            "top": null,
            "grid_column": null,
            "overflow_y": null,
            "overflow_x": null,
            "grid_auto_flow": null,
            "grid_area": null,
            "grid_template_columns": null,
            "flex": null,
            "_model_name": "LayoutModel",
            "justify_items": null,
            "grid_row": null,
            "max_height": null,
            "align_content": null,
            "visibility": null,
            "align_self": null,
            "height": null,
            "min_height": null,
            "padding": null,
            "grid_auto_rows": null,
            "grid_gap": null,
            "max_width": null,
            "order": null,
            "_view_module_version": "1.2.0",
            "grid_template_areas": null,
            "object_position": null,
            "object_fit": null,
            "grid_auto_columns": null,
            "margin": null,
            "display": null,
            "left": null
          }
        },
        "08d46ccc088a4d70a4c251ae6e1d792e": {
          "model_module": "@jupyter-widgets/controls",
          "model_name": "ProgressStyleModel",
          "model_module_version": "1.5.0",
          "state": {
            "_view_name": "StyleView",
            "_model_name": "ProgressStyleModel",
            "description_width": "",
            "_view_module": "@jupyter-widgets/base",
            "_model_module_version": "1.5.0",
            "_view_count": null,
            "_view_module_version": "1.2.0",
            "bar_color": null,
            "_model_module": "@jupyter-widgets/controls"
          }
        },
        "e4d47f0094834925811aa01c8ed0ff51": {
          "model_module": "@jupyter-widgets/base",
          "model_name": "LayoutModel",
          "model_module_version": "1.2.0",
          "state": {
            "_view_name": "LayoutView",
            "grid_template_rows": null,
            "right": null,
            "justify_content": null,
            "_view_module": "@jupyter-widgets/base",
            "overflow": null,
            "_model_module_version": "1.2.0",
            "_view_count": null,
            "flex_flow": null,
            "width": null,
            "min_width": null,
            "border": null,
            "align_items": null,
            "bottom": null,
            "_model_module": "@jupyter-widgets/base",
            "top": null,
            "grid_column": null,
            "overflow_y": null,
            "overflow_x": null,
            "grid_auto_flow": null,
            "grid_area": null,
            "grid_template_columns": null,
            "flex": null,
            "_model_name": "LayoutModel",
            "justify_items": null,
            "grid_row": null,
            "max_height": null,
            "align_content": null,
            "visibility": null,
            "align_self": null,
            "height": null,
            "min_height": null,
            "padding": null,
            "grid_auto_rows": null,
            "grid_gap": null,
            "max_width": null,
            "order": null,
            "_view_module_version": "1.2.0",
            "grid_template_areas": null,
            "object_position": null,
            "object_fit": null,
            "grid_auto_columns": null,
            "margin": null,
            "display": null,
            "left": null
          }
        },
        "a4869b7db9bd4655b2b0feb9915d07c3": {
          "model_module": "@jupyter-widgets/controls",
          "model_name": "DescriptionStyleModel",
          "model_module_version": "1.5.0",
          "state": {
            "_view_name": "StyleView",
            "_model_name": "DescriptionStyleModel",
            "description_width": "",
            "_view_module": "@jupyter-widgets/base",
            "_model_module_version": "1.5.0",
            "_view_count": null,
            "_view_module_version": "1.2.0",
            "_model_module": "@jupyter-widgets/controls"
          }
        },
        "4bedb1c901f24c1787450b42e1bd8f93": {
          "model_module": "@jupyter-widgets/base",
          "model_name": "LayoutModel",
          "model_module_version": "1.2.0",
          "state": {
            "_view_name": "LayoutView",
            "grid_template_rows": null,
            "right": null,
            "justify_content": null,
            "_view_module": "@jupyter-widgets/base",
            "overflow": null,
            "_model_module_version": "1.2.0",
            "_view_count": null,
            "flex_flow": null,
            "width": null,
            "min_width": null,
            "border": null,
            "align_items": null,
            "bottom": null,
            "_model_module": "@jupyter-widgets/base",
            "top": null,
            "grid_column": null,
            "overflow_y": null,
            "overflow_x": null,
            "grid_auto_flow": null,
            "grid_area": null,
            "grid_template_columns": null,
            "flex": null,
            "_model_name": "LayoutModel",
            "justify_items": null,
            "grid_row": null,
            "max_height": null,
            "align_content": null,
            "visibility": null,
            "align_self": null,
            "height": null,
            "min_height": null,
            "padding": null,
            "grid_auto_rows": null,
            "grid_gap": null,
            "max_width": null,
            "order": null,
            "_view_module_version": "1.2.0",
            "grid_template_areas": null,
            "object_position": null,
            "object_fit": null,
            "grid_auto_columns": null,
            "margin": null,
            "display": null,
            "left": null
          }
        },
        "54006a7bcbe04a3cb33e666330adf423": {
          "model_module": "@jupyter-widgets/controls",
          "model_name": "HBoxModel",
          "model_module_version": "1.5.0",
          "state": {
            "_view_name": "HBoxView",
            "_dom_classes": [],
            "_model_name": "HBoxModel",
            "_view_module": "@jupyter-widgets/controls",
            "_model_module_version": "1.5.0",
            "_view_count": null,
            "_view_module_version": "1.5.0",
            "box_style": "",
            "layout": "IPY_MODEL_9acfad1f78504e31bf171aadaa5e873a",
            "_model_module": "@jupyter-widgets/controls",
            "children": [
              "IPY_MODEL_79083ff4f63d4660b8c63162fd0aac7f",
              "IPY_MODEL_31b8d26140334607a22359db9ae8eab5",
              "IPY_MODEL_ef83b7e81ce345a9a4d5abbb48c55543"
            ]
          }
        },
        "9acfad1f78504e31bf171aadaa5e873a": {
          "model_module": "@jupyter-widgets/base",
          "model_name": "LayoutModel",
          "model_module_version": "1.2.0",
          "state": {
            "_view_name": "LayoutView",
            "grid_template_rows": null,
            "right": null,
            "justify_content": null,
            "_view_module": "@jupyter-widgets/base",
            "overflow": null,
            "_model_module_version": "1.2.0",
            "_view_count": null,
            "flex_flow": null,
            "width": null,
            "min_width": null,
            "border": null,
            "align_items": null,
            "bottom": null,
            "_model_module": "@jupyter-widgets/base",
            "top": null,
            "grid_column": null,
            "overflow_y": null,
            "overflow_x": null,
            "grid_auto_flow": null,
            "grid_area": null,
            "grid_template_columns": null,
            "flex": null,
            "_model_name": "LayoutModel",
            "justify_items": null,
            "grid_row": null,
            "max_height": null,
            "align_content": null,
            "visibility": null,
            "align_self": null,
            "height": null,
            "min_height": null,
            "padding": null,
            "grid_auto_rows": null,
            "grid_gap": null,
            "max_width": null,
            "order": null,
            "_view_module_version": "1.2.0",
            "grid_template_areas": null,
            "object_position": null,
            "object_fit": null,
            "grid_auto_columns": null,
            "margin": null,
            "display": null,
            "left": null
          }
        },
        "79083ff4f63d4660b8c63162fd0aac7f": {
          "model_module": "@jupyter-widgets/controls",
          "model_name": "HTMLModel",
          "model_module_version": "1.5.0",
          "state": {
            "_view_name": "HTMLView",
            "style": "IPY_MODEL_94908aeb24884ac7851a06919257d90d",
            "_dom_classes": [],
            "description": "",
            "_model_name": "HTMLModel",
            "placeholder": "​",
            "_view_module": "@jupyter-widgets/controls",
            "_model_module_version": "1.5.0",
            "value": "Export report to file: 100%",
            "_view_count": null,
            "_view_module_version": "1.5.0",
            "description_tooltip": null,
            "_model_module": "@jupyter-widgets/controls",
            "layout": "IPY_MODEL_44731829132642f7ad8e818cbc08a399"
          }
        },
        "31b8d26140334607a22359db9ae8eab5": {
          "model_module": "@jupyter-widgets/controls",
          "model_name": "FloatProgressModel",
          "model_module_version": "1.5.0",
          "state": {
            "_view_name": "ProgressView",
            "style": "IPY_MODEL_00ef9d2fbad74a55bd3fa0b275508321",
            "_dom_classes": [],
            "description": "",
            "_model_name": "FloatProgressModel",
            "bar_style": "success",
            "max": 1,
            "_view_module": "@jupyter-widgets/controls",
            "_model_module_version": "1.5.0",
            "value": 1,
            "_view_count": null,
            "_view_module_version": "1.5.0",
            "orientation": "horizontal",
            "min": 0,
            "description_tooltip": null,
            "_model_module": "@jupyter-widgets/controls",
            "layout": "IPY_MODEL_afe05ba0b572441b975f16e1b606f41a"
          }
        },
        "ef83b7e81ce345a9a4d5abbb48c55543": {
          "model_module": "@jupyter-widgets/controls",
          "model_name": "HTMLModel",
          "model_module_version": "1.5.0",
          "state": {
            "_view_name": "HTMLView",
            "style": "IPY_MODEL_18c0563a7e6f4710a109fe397a8861a6",
            "_dom_classes": [],
            "description": "",
            "_model_name": "HTMLModel",
            "placeholder": "​",
            "_view_module": "@jupyter-widgets/controls",
            "_model_module_version": "1.5.0",
            "value": " 1/1 [00:00&lt;00:00,  2.40it/s]",
            "_view_count": null,
            "_view_module_version": "1.5.0",
            "description_tooltip": null,
            "_model_module": "@jupyter-widgets/controls",
            "layout": "IPY_MODEL_431820a4a9f940f6a158b3bd378ccf13"
          }
        },
        "94908aeb24884ac7851a06919257d90d": {
          "model_module": "@jupyter-widgets/controls",
          "model_name": "DescriptionStyleModel",
          "model_module_version": "1.5.0",
          "state": {
            "_view_name": "StyleView",
            "_model_name": "DescriptionStyleModel",
            "description_width": "",
            "_view_module": "@jupyter-widgets/base",
            "_model_module_version": "1.5.0",
            "_view_count": null,
            "_view_module_version": "1.2.0",
            "_model_module": "@jupyter-widgets/controls"
          }
        },
        "44731829132642f7ad8e818cbc08a399": {
          "model_module": "@jupyter-widgets/base",
          "model_name": "LayoutModel",
          "model_module_version": "1.2.0",
          "state": {
            "_view_name": "LayoutView",
            "grid_template_rows": null,
            "right": null,
            "justify_content": null,
            "_view_module": "@jupyter-widgets/base",
            "overflow": null,
            "_model_module_version": "1.2.0",
            "_view_count": null,
            "flex_flow": null,
            "width": null,
            "min_width": null,
            "border": null,
            "align_items": null,
            "bottom": null,
            "_model_module": "@jupyter-widgets/base",
            "top": null,
            "grid_column": null,
            "overflow_y": null,
            "overflow_x": null,
            "grid_auto_flow": null,
            "grid_area": null,
            "grid_template_columns": null,
            "flex": null,
            "_model_name": "LayoutModel",
            "justify_items": null,
            "grid_row": null,
            "max_height": null,
            "align_content": null,
            "visibility": null,
            "align_self": null,
            "height": null,
            "min_height": null,
            "padding": null,
            "grid_auto_rows": null,
            "grid_gap": null,
            "max_width": null,
            "order": null,
            "_view_module_version": "1.2.0",
            "grid_template_areas": null,
            "object_position": null,
            "object_fit": null,
            "grid_auto_columns": null,
            "margin": null,
            "display": null,
            "left": null
          }
        },
        "00ef9d2fbad74a55bd3fa0b275508321": {
          "model_module": "@jupyter-widgets/controls",
          "model_name": "ProgressStyleModel",
          "model_module_version": "1.5.0",
          "state": {
            "_view_name": "StyleView",
            "_model_name": "ProgressStyleModel",
            "description_width": "",
            "_view_module": "@jupyter-widgets/base",
            "_model_module_version": "1.5.0",
            "_view_count": null,
            "_view_module_version": "1.2.0",
            "bar_color": null,
            "_model_module": "@jupyter-widgets/controls"
          }
        },
        "afe05ba0b572441b975f16e1b606f41a": {
          "model_module": "@jupyter-widgets/base",
          "model_name": "LayoutModel",
          "model_module_version": "1.2.0",
          "state": {
            "_view_name": "LayoutView",
            "grid_template_rows": null,
            "right": null,
            "justify_content": null,
            "_view_module": "@jupyter-widgets/base",
            "overflow": null,
            "_model_module_version": "1.2.0",
            "_view_count": null,
            "flex_flow": null,
            "width": null,
            "min_width": null,
            "border": null,
            "align_items": null,
            "bottom": null,
            "_model_module": "@jupyter-widgets/base",
            "top": null,
            "grid_column": null,
            "overflow_y": null,
            "overflow_x": null,
            "grid_auto_flow": null,
            "grid_area": null,
            "grid_template_columns": null,
            "flex": null,
            "_model_name": "LayoutModel",
            "justify_items": null,
            "grid_row": null,
            "max_height": null,
            "align_content": null,
            "visibility": null,
            "align_self": null,
            "height": null,
            "min_height": null,
            "padding": null,
            "grid_auto_rows": null,
            "grid_gap": null,
            "max_width": null,
            "order": null,
            "_view_module_version": "1.2.0",
            "grid_template_areas": null,
            "object_position": null,
            "object_fit": null,
            "grid_auto_columns": null,
            "margin": null,
            "display": null,
            "left": null
          }
        },
        "18c0563a7e6f4710a109fe397a8861a6": {
          "model_module": "@jupyter-widgets/controls",
          "model_name": "DescriptionStyleModel",
          "model_module_version": "1.5.0",
          "state": {
            "_view_name": "StyleView",
            "_model_name": "DescriptionStyleModel",
            "description_width": "",
            "_view_module": "@jupyter-widgets/base",
            "_model_module_version": "1.5.0",
            "_view_count": null,
            "_view_module_version": "1.2.0",
            "_model_module": "@jupyter-widgets/controls"
          }
        },
        "431820a4a9f940f6a158b3bd378ccf13": {
          "model_module": "@jupyter-widgets/base",
          "model_name": "LayoutModel",
          "model_module_version": "1.2.0",
          "state": {
            "_view_name": "LayoutView",
            "grid_template_rows": null,
            "right": null,
            "justify_content": null,
            "_view_module": "@jupyter-widgets/base",
            "overflow": null,
            "_model_module_version": "1.2.0",
            "_view_count": null,
            "flex_flow": null,
            "width": null,
            "min_width": null,
            "border": null,
            "align_items": null,
            "bottom": null,
            "_model_module": "@jupyter-widgets/base",
            "top": null,
            "grid_column": null,
            "overflow_y": null,
            "overflow_x": null,
            "grid_auto_flow": null,
            "grid_area": null,
            "grid_template_columns": null,
            "flex": null,
            "_model_name": "LayoutModel",
            "justify_items": null,
            "grid_row": null,
            "max_height": null,
            "align_content": null,
            "visibility": null,
            "align_self": null,
            "height": null,
            "min_height": null,
            "padding": null,
            "grid_auto_rows": null,
            "grid_gap": null,
            "max_width": null,
            "order": null,
            "_view_module_version": "1.2.0",
            "grid_template_areas": null,
            "object_position": null,
            "object_fit": null,
            "grid_auto_columns": null,
            "margin": null,
            "display": null,
            "left": null
          }
        }
      }
    },
    "accelerator": "GPU"
  },
  "cells": [
    {
      "cell_type": "markdown",
      "metadata": {
        "id": "zFRW3dtA_xFd"
      },
      "source": [
        "# **CREDIT RISK MODELING**\n",
        "\n",
        "---"
      ]
    },
    {
      "cell_type": "markdown",
      "metadata": {
        "id": "on_1k4YSACOu"
      },
      "source": [
        "![crm.png](data:image/png;base64,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)\n",
        "\n",
        "\n",
        "\n",
        "\n"
      ]
    },
    {
      "cell_type": "markdown",
      "metadata": {
        "id": "a9AF-RhqxdP8"
      },
      "source": [
        "## **Problem statement**\n",
        "Customers apply for various kinds of loans in a bank. The branch\n",
        "manager has the responsibility to determine if you should approve a loan application or not. The\n",
        "manager hires you as a data scientist, and asks you to understand and predict if the customer\n",
        "will be able to repay the loans or not. This dataset will help to determine such abilities of each\n",
        "customer. It contains a feature named “Target” where 1 represents customers with payment\n",
        "difficulties (like he/she had late payment more than X days on at least one of the first Y\n",
        "installments of the loan or any previous loan), and 0 for all other cases."
      ]
    },
    {
      "cell_type": "markdown",
      "metadata": {
        "id": "cKpRbjvcx8Um"
      },
      "source": [
        "## **Architecture diagram**\n",
        "![Capture3.PNG](data:image/png;base64,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)"
      ]
    },
    {
      "cell_type": "markdown",
      "metadata": {
        "id": "EE0bBl2WberT"
      },
      "source": [
        "### **Import required Libraries**"
      ]
    },
    {
      "cell_type": "code",
      "metadata": {
        "id": "jV20wtMZNjZf",
        "colab": {
          "base_uri": "https://localhost:8080/"
        },
        "cellView": "form",
        "outputId": "1c290ab0-8cab-4cfa-9adc-d61d743ca13f"
      },
      "source": [
        "#@title Imporing Libraries: numpy, pandan, matplotlib, seaborn, plotly, sklearn, PandasProfiling, SMOTETOmek.\n",
        "import numpy as np\n",
        "import pandas as pd\n",
        "import csv\n",
        "import plotly.express as px\n",
        "import matplotlib.pyplot as plt\n",
        "import seaborn as sns\n",
        "from sklearn.metrics import precision_score, recall_score, f1_score, accuracy_score\n",
        "from pandas_profiling import ProfileReport\n",
        "from sklearn.metrics import confusion_matrix\n",
        "from sklearn.ensemble import ExtraTreesClassifier\n",
        "from sklearn.model_selection import train_test_split\n",
        "from imblearn.combine import SMOTETomek\n",
        "from collections import Counter\n",
        "from sklearn.preprocessing import StandardScaler\n",
        "from sklearn.metrics import roc_curve, auc\n",
        "from sklearn import linear_model\n",
        "%matplotlib inline"
      ],
      "execution_count": null,
      "outputs": [
        {
          "output_type": "stream",
          "name": "stderr",
          "text": [
            "/usr/local/lib/python3.7/dist-packages/sklearn/externals/six.py:31: FutureWarning:\n",
            "\n",
            "The module is deprecated in version 0.21 and will be removed in version 0.23 since we've dropped support for Python 2.7. Please rely on the official version of six (https://pypi.org/project/six/).\n",
            "\n",
            "/usr/local/lib/python3.7/dist-packages/sklearn/utils/deprecation.py:144: FutureWarning:\n",
            "\n",
            "The sklearn.neighbors.base module is  deprecated in version 0.22 and will be removed in version 0.24. The corresponding classes / functions should instead be imported from sklearn.neighbors. Anything that cannot be imported from sklearn.neighbors is now part of the private API.\n",
            "\n"
          ]
        }
      ]
    },
    {
      "cell_type": "code",
      "metadata": {
        "colab": {
          "base_uri": "https://localhost:8080/"
        },
        "id": "mxxD_pk4OJd4",
        "cellView": "form",
        "outputId": "140a638d-24ff-44de-951e-f25afbdedb01"
      },
      "source": [
        "#@title Mounting Google Drive\n",
        "from google.colab import drive\n",
        "drive.mount('/gdrive')"
      ],
      "execution_count": null,
      "outputs": [
        {
          "output_type": "stream",
          "name": "stdout",
          "text": [
            "Mounted at /gdrive\n"
          ]
        }
      ]
    },
    {
      "cell_type": "code",
      "metadata": {
        "id": "U54i8RrLOOMI",
        "colab": {
          "base_uri": "https://localhost:8080/"
        },
        "cellView": "form",
        "outputId": "2dc47dff-b134-41a2-d89d-8f1b53b15b5f"
      },
      "source": [
        "#@title \n",
        "cd '/gdrive/My Drive/Credit Risk Modeling/'"
      ],
      "execution_count": null,
      "outputs": [
        {
          "output_type": "stream",
          "name": "stdout",
          "text": [
            "/gdrive/My Drive/Credit Risk Modeling\n"
          ]
        }
      ]
    },
    {
      "cell_type": "code",
      "metadata": {
        "colab": {
          "base_uri": "https://localhost:8080/"
        },
        "id": "EHkkTeeSOhLJ",
        "cellView": "form",
        "outputId": "00adc40d-efe4-42db-cd44-419737b4072f"
      },
      "source": [
        "#@title Reading Dataset\n",
        "df=pd.read_csv(\"credit_risk_file.csv\")"
      ],
      "execution_count": null,
      "outputs": [
        {
          "output_type": "stream",
          "name": "stderr",
          "text": [
            "/usr/local/lib/python3.7/dist-packages/IPython/core/interactiveshell.py:2718: DtypeWarning:\n",
            "\n",
            "Columns (3,4,5,6,12,13,14,15,16,29,33,41,87,88,90,91) have mixed types.Specify dtype option on import or set low_memory=False.\n",
            "\n"
          ]
        }
      ]
    },
    {
      "cell_type": "code",
      "metadata": {
        "id": "cS-r_-ObOr30",
        "colab": {
          "base_uri": "https://localhost:8080/",
          "height": 530
        },
        "cellView": "form",
        "outputId": "8679b250-5afd-45a6-88aa-417bd3695d12"
      },
      "source": [
        "#@title Getting a gist of the dataset\n",
        "df"
      ],
      "execution_count": null,
      "outputs": [
        {
          "output_type": "execute_result",
          "data": {
            "text/html": [
              "<div>\n",
              "<style scoped>\n",
              "    .dataframe tbody tr th:only-of-type {\n",
              "        vertical-align: middle;\n",
              "    }\n",
              "\n",
              "    .dataframe tbody tr th {\n",
              "        vertical-align: top;\n",
              "    }\n",
              "\n",
              "    .dataframe thead th {\n",
              "        text-align: right;\n",
              "    }\n",
              "</style>\n",
              "<table border=\"1\" class=\"dataframe\">\n",
              "  <thead>\n",
              "    <tr style=\"text-align: right;\">\n",
              "      <th></th>\n",
              "      <th>Unnamed: 0</th>\n",
              "      <th>SK_ID_CURR</th>\n",
              "      <th>TARGET</th>\n",
              "      <th>NAME_CONTRACT_TYPE</th>\n",
              "      <th>CODE_GENDER</th>\n",
              "      <th>FLAG_OWN_CAR</th>\n",
              "      <th>FLAG_OWN_REALTY</th>\n",
              "      <th>CNT_CHILDREN</th>\n",
              "      <th>AMT_INCOME_TOTAL</th>\n",
              "      <th>AMT_CREDIT</th>\n",
              "      <th>AMT_ANNUITY</th>\n",
              "      <th>AMT_GOODS_PRICE</th>\n",
              "      <th>NAME_TYPE_SUITE</th>\n",
              "      <th>NAME_INCOME_TYPE</th>\n",
              "      <th>NAME_EDUCATION_TYPE</th>\n",
              "      <th>NAME_FAMILY_STATUS</th>\n",
              "      <th>NAME_HOUSING_TYPE</th>\n",
              "      <th>REGION_POPULATION_RELATIVE</th>\n",
              "      <th>DAYS_BIRTH</th>\n",
              "      <th>DAYS_EMPLOYED</th>\n",
              "      <th>DAYS_REGISTRATION</th>\n",
              "      <th>DAYS_ID_PUBLISH</th>\n",
              "      <th>OWN_CAR_AGE</th>\n",
              "      <th>FLAG_MOBIL</th>\n",
              "      <th>FLAG_EMP_PHONE</th>\n",
              "      <th>FLAG_WORK_PHONE</th>\n",
              "      <th>FLAG_CONT_MOBILE</th>\n",
              "      <th>FLAG_PHONE</th>\n",
              "      <th>FLAG_EMAIL</th>\n",
              "      <th>OCCUPATION_TYPE</th>\n",
              "      <th>CNT_FAM_MEMBERS</th>\n",
              "      <th>REGION_RATING_CLIENT</th>\n",
              "      <th>REGION_RATING_CLIENT_W_CITY</th>\n",
              "      <th>WEEKDAY_APPR_PROCESS_START</th>\n",
              "      <th>HOUR_APPR_PROCESS_START</th>\n",
              "      <th>REG_REGION_NOT_LIVE_REGION</th>\n",
              "      <th>REG_REGION_NOT_WORK_REGION</th>\n",
              "      <th>LIVE_REGION_NOT_WORK_REGION</th>\n",
              "      <th>REG_CITY_NOT_LIVE_CITY</th>\n",
              "      <th>REG_CITY_NOT_WORK_CITY</th>\n",
              "      <th>...</th>\n",
              "      <th>FLAG_DOCUMENT_13</th>\n",
              "      <th>FLAG_DOCUMENT_14</th>\n",
              "      <th>FLAG_DOCUMENT_15</th>\n",
              "      <th>FLAG_DOCUMENT_16</th>\n",
              "      <th>FLAG_DOCUMENT_17</th>\n",
              "      <th>FLAG_DOCUMENT_18</th>\n",
              "      <th>FLAG_DOCUMENT_19</th>\n",
              "      <th>FLAG_DOCUMENT_20</th>\n",
              "      <th>FLAG_DOCUMENT_21</th>\n",
              "      <th>AMT_REQ_CREDIT_BUREAU_HOUR</th>\n",
              "      <th>AMT_REQ_CREDIT_BUREAU_DAY</th>\n",
              "      <th>AMT_REQ_CREDIT_BUREAU_WEEK</th>\n",
              "      <th>AMT_REQ_CREDIT_BUREAU_MON</th>\n",
              "      <th>AMT_REQ_CREDIT_BUREAU_QRT</th>\n",
              "      <th>AMT_REQ_CREDIT_BUREAU_YEAR</th>\n",
              "      <th>AMT_CREDIT_SUM</th>\n",
              "      <th>AMT_CREDIT_SUM_DEBT</th>\n",
              "      <th>PREVIOUS_LOAN_COUNTS_BUREAU</th>\n",
              "      <th>AMT_CREDIT_SUM_OVERDUE</th>\n",
              "      <th>AMT_BALANCE</th>\n",
              "      <th>AMT_CREDIT_LIMIT_ACTUAL</th>\n",
              "      <th>PREVIOUS_LOAN_COUNTS_CC</th>\n",
              "      <th>AMT_RECIVABLE</th>\n",
              "      <th>AMT_PAYMENT_CURRENT</th>\n",
              "      <th>AMT_PAYMENT_TOTAL_CURRENT</th>\n",
              "      <th>AMT_TOTAL_RECEIVABLE</th>\n",
              "      <th>SK_DPD</th>\n",
              "      <th>AMT_DRAWINGS</th>\n",
              "      <th>CNT_DRAWINGS</th>\n",
              "      <th>NUM_INSTALMENT_NUMBER</th>\n",
              "      <th>AMT_INSTALMENT</th>\n",
              "      <th>PREVIOUS_COUNTS_INST</th>\n",
              "      <th>AMT_PAYMENT</th>\n",
              "      <th>CNT_INSTALMENT</th>\n",
              "      <th>CNT_INSTALMENT_FUTURE</th>\n",
              "      <th>PREVIOUS_CASH_LOAN_COUNTS</th>\n",
              "      <th>AMT_APPLICATION</th>\n",
              "      <th>CNT_PAYMENT</th>\n",
              "      <th>PREVIOUS_COUNTS</th>\n",
              "      <th>AMT_DOWN_PAYMENT</th>\n",
              "    </tr>\n",
              "  </thead>\n",
              "  <tbody>\n",
              "    <tr>\n",
              "      <th>0</th>\n",
              "      <td>0</td>\n",
              "      <td>100002</td>\n",
              "      <td>1</td>\n",
              "      <td>Cash loans</td>\n",
              "      <td>M</td>\n",
              "      <td>N</td>\n",
              "      <td>Y</td>\n",
              "      <td>0</td>\n",
              "      <td>202500.0</td>\n",
              "      <td>406597.5</td>\n",
              "      <td>24700.500</td>\n",
              "      <td>351000.0</td>\n",
              "      <td>Unaccompanied</td>\n",
              "      <td>Working</td>\n",
              "      <td>Secondary / secondary special</td>\n",
              "      <td>Single / not married</td>\n",
              "      <td>House / apartment</td>\n",
              "      <td>0.018801</td>\n",
              "      <td>-9461</td>\n",
              "      <td>-637</td>\n",
              "      <td>-3648.0</td>\n",
              "      <td>-2120</td>\n",
              "      <td>0</td>\n",
              "      <td>1</td>\n",
              "      <td>1</td>\n",
              "      <td>0</td>\n",
              "      <td>1</td>\n",
              "      <td>1</td>\n",
              "      <td>0</td>\n",
              "      <td>Laborers</td>\n",
              "      <td>1</td>\n",
              "      <td>2</td>\n",
              "      <td>2</td>\n",
              "      <td>WEDNESDAY</td>\n",
              "      <td>10</td>\n",
              "      <td>0</td>\n",
              "      <td>0</td>\n",
              "      <td>0</td>\n",
              "      <td>0</td>\n",
              "      <td>0</td>\n",
              "      <td>...</td>\n",
              "      <td>0</td>\n",
              "      <td>0</td>\n",
              "      <td>0</td>\n",
              "      <td>0</td>\n",
              "      <td>0</td>\n",
              "      <td>0</td>\n",
              "      <td>0</td>\n",
              "      <td>0</td>\n",
              "      <td>0</td>\n",
              "      <td>0</td>\n",
              "      <td>0</td>\n",
              "      <td>0</td>\n",
              "      <td>0</td>\n",
              "      <td>0</td>\n",
              "      <td>1</td>\n",
              "      <td>865055.565</td>\n",
              "      <td>245781.0</td>\n",
              "      <td>8</td>\n",
              "      <td>0.0</td>\n",
              "      <td>0.0</td>\n",
              "      <td>0</td>\n",
              "      <td>0</td>\n",
              "      <td>0.0</td>\n",
              "      <td>0.0</td>\n",
              "      <td>0.0</td>\n",
              "      <td>0.0</td>\n",
              "      <td>0</td>\n",
              "      <td>0.0</td>\n",
              "      <td>0</td>\n",
              "      <td>190</td>\n",
              "      <td>219625.695</td>\n",
              "      <td>19</td>\n",
              "      <td>219625.695</td>\n",
              "      <td>456</td>\n",
              "      <td>285</td>\n",
              "      <td>19</td>\n",
              "      <td>0.0</td>\n",
              "      <td>0</td>\n",
              "      <td>0</td>\n",
              "      <td>0.0</td>\n",
              "    </tr>\n",
              "    <tr>\n",
              "      <th>1</th>\n",
              "      <td>1</td>\n",
              "      <td>100003</td>\n",
              "      <td>0</td>\n",
              "      <td>Cash loans</td>\n",
              "      <td>F</td>\n",
              "      <td>N</td>\n",
              "      <td>N</td>\n",
              "      <td>0</td>\n",
              "      <td>270000.0</td>\n",
              "      <td>1293502.5</td>\n",
              "      <td>35698.500</td>\n",
              "      <td>1129500.0</td>\n",
              "      <td>Family</td>\n",
              "      <td>State servant</td>\n",
              "      <td>Higher education</td>\n",
              "      <td>Married</td>\n",
              "      <td>House / apartment</td>\n",
              "      <td>0.003541</td>\n",
              "      <td>-16765</td>\n",
              "      <td>-1188</td>\n",
              "      <td>-1186.0</td>\n",
              "      <td>-291</td>\n",
              "      <td>0</td>\n",
              "      <td>1</td>\n",
              "      <td>1</td>\n",
              "      <td>0</td>\n",
              "      <td>1</td>\n",
              "      <td>1</td>\n",
              "      <td>0</td>\n",
              "      <td>Core staff</td>\n",
              "      <td>2</td>\n",
              "      <td>1</td>\n",
              "      <td>1</td>\n",
              "      <td>MONDAY</td>\n",
              "      <td>11</td>\n",
              "      <td>0</td>\n",
              "      <td>0</td>\n",
              "      <td>0</td>\n",
              "      <td>0</td>\n",
              "      <td>0</td>\n",
              "      <td>...</td>\n",
              "      <td>0</td>\n",
              "      <td>0</td>\n",
              "      <td>0</td>\n",
              "      <td>0</td>\n",
              "      <td>0</td>\n",
              "      <td>0</td>\n",
              "      <td>0</td>\n",
              "      <td>0</td>\n",
              "      <td>0</td>\n",
              "      <td>0</td>\n",
              "      <td>0</td>\n",
              "      <td>0</td>\n",
              "      <td>0</td>\n",
              "      <td>0</td>\n",
              "      <td>0</td>\n",
              "      <td>1017400.500</td>\n",
              "      <td>0.0</td>\n",
              "      <td>4</td>\n",
              "      <td>0.0</td>\n",
              "      <td>0.0</td>\n",
              "      <td>0</td>\n",
              "      <td>0</td>\n",
              "      <td>0.0</td>\n",
              "      <td>0.0</td>\n",
              "      <td>0.0</td>\n",
              "      <td>0.0</td>\n",
              "      <td>0</td>\n",
              "      <td>0.0</td>\n",
              "      <td>0</td>\n",
              "      <td>127</td>\n",
              "      <td>1618864.650</td>\n",
              "      <td>25</td>\n",
              "      <td>1618864.650</td>\n",
              "      <td>283</td>\n",
              "      <td>162</td>\n",
              "      <td>28</td>\n",
              "      <td>0.0</td>\n",
              "      <td>0</td>\n",
              "      <td>0</td>\n",
              "      <td>0.0</td>\n",
              "    </tr>\n",
              "    <tr>\n",
              "      <th>2</th>\n",
              "      <td>2</td>\n",
              "      <td>100004</td>\n",
              "      <td>0</td>\n",
              "      <td>Revolving loans</td>\n",
              "      <td>M</td>\n",
              "      <td>Y</td>\n",
              "      <td>Y</td>\n",
              "      <td>0</td>\n",
              "      <td>67500.0</td>\n",
              "      <td>135000.0</td>\n",
              "      <td>6750.000</td>\n",
              "      <td>135000.0</td>\n",
              "      <td>Unaccompanied</td>\n",
              "      <td>Working</td>\n",
              "      <td>Secondary / secondary special</td>\n",
              "      <td>Single / not married</td>\n",
              "      <td>House / apartment</td>\n",
              "      <td>0.010032</td>\n",
              "      <td>-19046</td>\n",
              "      <td>-225</td>\n",
              "      <td>-4260.0</td>\n",
              "      <td>-2531</td>\n",
              "      <td>26</td>\n",
              "      <td>1</td>\n",
              "      <td>1</td>\n",
              "      <td>1</td>\n",
              "      <td>1</td>\n",
              "      <td>1</td>\n",
              "      <td>0</td>\n",
              "      <td>Laborers</td>\n",
              "      <td>1</td>\n",
              "      <td>2</td>\n",
              "      <td>2</td>\n",
              "      <td>MONDAY</td>\n",
              "      <td>9</td>\n",
              "      <td>0</td>\n",
              "      <td>0</td>\n",
              "      <td>0</td>\n",
              "      <td>0</td>\n",
              "      <td>0</td>\n",
              "      <td>...</td>\n",
              "      <td>0</td>\n",
              "      <td>0</td>\n",
              "      <td>0</td>\n",
              "      <td>0</td>\n",
              "      <td>0</td>\n",
              "      <td>0</td>\n",
              "      <td>0</td>\n",
              "      <td>0</td>\n",
              "      <td>0</td>\n",
              "      <td>0</td>\n",
              "      <td>0</td>\n",
              "      <td>0</td>\n",
              "      <td>0</td>\n",
              "      <td>0</td>\n",
              "      <td>0</td>\n",
              "      <td>189037.800</td>\n",
              "      <td>0.0</td>\n",
              "      <td>2</td>\n",
              "      <td>0.0</td>\n",
              "      <td>0.0</td>\n",
              "      <td>0</td>\n",
              "      <td>0</td>\n",
              "      <td>0.0</td>\n",
              "      <td>0.0</td>\n",
              "      <td>0.0</td>\n",
              "      <td>0.0</td>\n",
              "      <td>0</td>\n",
              "      <td>0.0</td>\n",
              "      <td>0</td>\n",
              "      <td>6</td>\n",
              "      <td>21288.465</td>\n",
              "      <td>3</td>\n",
              "      <td>21288.465</td>\n",
              "      <td>15</td>\n",
              "      <td>9</td>\n",
              "      <td>4</td>\n",
              "      <td>0.0</td>\n",
              "      <td>0</td>\n",
              "      <td>0</td>\n",
              "      <td>0.0</td>\n",
              "    </tr>\n",
              "    <tr>\n",
              "      <th>3</th>\n",
              "      <td>3</td>\n",
              "      <td>100007</td>\n",
              "      <td>0</td>\n",
              "      <td>Cash loans</td>\n",
              "      <td>M</td>\n",
              "      <td>N</td>\n",
              "      <td>Y</td>\n",
              "      <td>0</td>\n",
              "      <td>121500.0</td>\n",
              "      <td>513000.0</td>\n",
              "      <td>21865.500</td>\n",
              "      <td>513000.0</td>\n",
              "      <td>Unaccompanied</td>\n",
              "      <td>Working</td>\n",
              "      <td>Secondary / secondary special</td>\n",
              "      <td>Single / not married</td>\n",
              "      <td>House / apartment</td>\n",
              "      <td>0.028663</td>\n",
              "      <td>-19932</td>\n",
              "      <td>-3038</td>\n",
              "      <td>-4311.0</td>\n",
              "      <td>-3458</td>\n",
              "      <td>0</td>\n",
              "      <td>1</td>\n",
              "      <td>1</td>\n",
              "      <td>0</td>\n",
              "      <td>1</td>\n",
              "      <td>0</td>\n",
              "      <td>0</td>\n",
              "      <td>Core staff</td>\n",
              "      <td>1</td>\n",
              "      <td>2</td>\n",
              "      <td>2</td>\n",
              "      <td>THURSDAY</td>\n",
              "      <td>11</td>\n",
              "      <td>0</td>\n",
              "      <td>0</td>\n",
              "      <td>0</td>\n",
              "      <td>0</td>\n",
              "      <td>1</td>\n",
              "      <td>...</td>\n",
              "      <td>0</td>\n",
              "      <td>0</td>\n",
              "      <td>0</td>\n",
              "      <td>0</td>\n",
              "      <td>0</td>\n",
              "      <td>0</td>\n",
              "      <td>0</td>\n",
              "      <td>0</td>\n",
              "      <td>0</td>\n",
              "      <td>0</td>\n",
              "      <td>0</td>\n",
              "      <td>0</td>\n",
              "      <td>0</td>\n",
              "      <td>0</td>\n",
              "      <td>0</td>\n",
              "      <td>146250.000</td>\n",
              "      <td>0.0</td>\n",
              "      <td>1</td>\n",
              "      <td>0.0</td>\n",
              "      <td>0.0</td>\n",
              "      <td>0</td>\n",
              "      <td>0</td>\n",
              "      <td>0.0</td>\n",
              "      <td>0.0</td>\n",
              "      <td>0.0</td>\n",
              "      <td>0.0</td>\n",
              "      <td>0</td>\n",
              "      <td>0.0</td>\n",
              "      <td>0</td>\n",
              "      <td>465</td>\n",
              "      <td>835985.340</td>\n",
              "      <td>66</td>\n",
              "      <td>806127.975</td>\n",
              "      <td>1012</td>\n",
              "      <td>592</td>\n",
              "      <td>66</td>\n",
              "      <td>0.0</td>\n",
              "      <td>0</td>\n",
              "      <td>0</td>\n",
              "      <td>0.0</td>\n",
              "    </tr>\n",
              "    <tr>\n",
              "      <th>4</th>\n",
              "      <td>4</td>\n",
              "      <td>100008</td>\n",
              "      <td>0</td>\n",
              "      <td>Cash loans</td>\n",
              "      <td>M</td>\n",
              "      <td>N</td>\n",
              "      <td>Y</td>\n",
              "      <td>0</td>\n",
              "      <td>99000.0</td>\n",
              "      <td>490495.5</td>\n",
              "      <td>27517.500</td>\n",
              "      <td>454500.0</td>\n",
              "      <td>Spouse, partner</td>\n",
              "      <td>State servant</td>\n",
              "      <td>Secondary / secondary special</td>\n",
              "      <td>Married</td>\n",
              "      <td>House / apartment</td>\n",
              "      <td>0.035792</td>\n",
              "      <td>-16941</td>\n",
              "      <td>-1588</td>\n",
              "      <td>-4970.0</td>\n",
              "      <td>-477</td>\n",
              "      <td>0</td>\n",
              "      <td>1</td>\n",
              "      <td>1</td>\n",
              "      <td>1</td>\n",
              "      <td>1</td>\n",
              "      <td>1</td>\n",
              "      <td>0</td>\n",
              "      <td>Laborers</td>\n",
              "      <td>2</td>\n",
              "      <td>2</td>\n",
              "      <td>2</td>\n",
              "      <td>WEDNESDAY</td>\n",
              "      <td>16</td>\n",
              "      <td>0</td>\n",
              "      <td>0</td>\n",
              "      <td>0</td>\n",
              "      <td>0</td>\n",
              "      <td>0</td>\n",
              "      <td>...</td>\n",
              "      <td>0</td>\n",
              "      <td>0</td>\n",
              "      <td>0</td>\n",
              "      <td>0</td>\n",
              "      <td>0</td>\n",
              "      <td>0</td>\n",
              "      <td>0</td>\n",
              "      <td>0</td>\n",
              "      <td>0</td>\n",
              "      <td>0</td>\n",
              "      <td>0</td>\n",
              "      <td>0</td>\n",
              "      <td>0</td>\n",
              "      <td>1</td>\n",
              "      <td>1</td>\n",
              "      <td>468445.500</td>\n",
              "      <td>240057.0</td>\n",
              "      <td>3</td>\n",
              "      <td>0.0</td>\n",
              "      <td>0.0</td>\n",
              "      <td>0</td>\n",
              "      <td>0</td>\n",
              "      <td>0.0</td>\n",
              "      <td>0.0</td>\n",
              "      <td>0.0</td>\n",
              "      <td>0.0</td>\n",
              "      <td>0</td>\n",
              "      <td>0.0</td>\n",
              "      <td>0</td>\n",
              "      <td>177</td>\n",
              "      <td>969603.750</td>\n",
              "      <td>35</td>\n",
              "      <td>957617.595</td>\n",
              "      <td>956</td>\n",
              "      <td>341</td>\n",
              "      <td>83</td>\n",
              "      <td>0.0</td>\n",
              "      <td>0</td>\n",
              "      <td>0</td>\n",
              "      <td>0.0</td>\n",
              "    </tr>\n",
              "    <tr>\n",
              "      <th>...</th>\n",
              "      <td>...</td>\n",
              "      <td>...</td>\n",
              "      <td>...</td>\n",
              "      <td>...</td>\n",
              "      <td>...</td>\n",
              "      <td>...</td>\n",
              "      <td>...</td>\n",
              "      <td>...</td>\n",
              "      <td>...</td>\n",
              "      <td>...</td>\n",
              "      <td>...</td>\n",
              "      <td>...</td>\n",
              "      <td>...</td>\n",
              "      <td>...</td>\n",
              "      <td>...</td>\n",
              "      <td>...</td>\n",
              "      <td>...</td>\n",
              "      <td>...</td>\n",
              "      <td>...</td>\n",
              "      <td>...</td>\n",
              "      <td>...</td>\n",
              "      <td>...</td>\n",
              "      <td>...</td>\n",
              "      <td>...</td>\n",
              "      <td>...</td>\n",
              "      <td>...</td>\n",
              "      <td>...</td>\n",
              "      <td>...</td>\n",
              "      <td>...</td>\n",
              "      <td>...</td>\n",
              "      <td>...</td>\n",
              "      <td>...</td>\n",
              "      <td>...</td>\n",
              "      <td>...</td>\n",
              "      <td>...</td>\n",
              "      <td>...</td>\n",
              "      <td>...</td>\n",
              "      <td>...</td>\n",
              "      <td>...</td>\n",
              "      <td>...</td>\n",
              "      <td>...</td>\n",
              "      <td>...</td>\n",
              "      <td>...</td>\n",
              "      <td>...</td>\n",
              "      <td>...</td>\n",
              "      <td>...</td>\n",
              "      <td>...</td>\n",
              "      <td>...</td>\n",
              "      <td>...</td>\n",
              "      <td>...</td>\n",
              "      <td>...</td>\n",
              "      <td>...</td>\n",
              "      <td>...</td>\n",
              "      <td>...</td>\n",
              "      <td>...</td>\n",
              "      <td>...</td>\n",
              "      <td>...</td>\n",
              "      <td>...</td>\n",
              "      <td>...</td>\n",
              "      <td>...</td>\n",
              "      <td>...</td>\n",
              "      <td>...</td>\n",
              "      <td>...</td>\n",
              "      <td>...</td>\n",
              "      <td>...</td>\n",
              "      <td>...</td>\n",
              "      <td>...</td>\n",
              "      <td>...</td>\n",
              "      <td>...</td>\n",
              "      <td>...</td>\n",
              "      <td>...</td>\n",
              "      <td>...</td>\n",
              "      <td>...</td>\n",
              "      <td>...</td>\n",
              "      <td>...</td>\n",
              "      <td>...</td>\n",
              "      <td>...</td>\n",
              "      <td>...</td>\n",
              "      <td>...</td>\n",
              "      <td>...</td>\n",
              "      <td>...</td>\n",
              "    </tr>\n",
              "    <tr>\n",
              "      <th>692167</th>\n",
              "      <td>692167</td>\n",
              "      <td>456251</td>\n",
              "      <td>0</td>\n",
              "      <td>0</td>\n",
              "      <td>0</td>\n",
              "      <td>0</td>\n",
              "      <td>0</td>\n",
              "      <td>0</td>\n",
              "      <td>0.0</td>\n",
              "      <td>40455.0</td>\n",
              "      <td>6605.910</td>\n",
              "      <td>0.0</td>\n",
              "      <td>0</td>\n",
              "      <td>0</td>\n",
              "      <td>0</td>\n",
              "      <td>0</td>\n",
              "      <td>0</td>\n",
              "      <td>0.000000</td>\n",
              "      <td>0</td>\n",
              "      <td>0</td>\n",
              "      <td>0.0</td>\n",
              "      <td>0</td>\n",
              "      <td>0</td>\n",
              "      <td>0</td>\n",
              "      <td>0</td>\n",
              "      <td>0</td>\n",
              "      <td>0</td>\n",
              "      <td>0</td>\n",
              "      <td>0</td>\n",
              "      <td>0</td>\n",
              "      <td>0</td>\n",
              "      <td>0</td>\n",
              "      <td>0</td>\n",
              "      <td>0</td>\n",
              "      <td>0</td>\n",
              "      <td>0</td>\n",
              "      <td>0</td>\n",
              "      <td>0</td>\n",
              "      <td>0</td>\n",
              "      <td>0</td>\n",
              "      <td>...</td>\n",
              "      <td>0</td>\n",
              "      <td>0</td>\n",
              "      <td>0</td>\n",
              "      <td>0</td>\n",
              "      <td>0</td>\n",
              "      <td>0</td>\n",
              "      <td>0</td>\n",
              "      <td>0</td>\n",
              "      <td>0</td>\n",
              "      <td>0</td>\n",
              "      <td>0</td>\n",
              "      <td>0</td>\n",
              "      <td>0</td>\n",
              "      <td>0</td>\n",
              "      <td>0</td>\n",
              "      <td>0.000</td>\n",
              "      <td>0.0</td>\n",
              "      <td>0</td>\n",
              "      <td>0.0</td>\n",
              "      <td>0.0</td>\n",
              "      <td>0</td>\n",
              "      <td>0</td>\n",
              "      <td>0.0</td>\n",
              "      <td>0.0</td>\n",
              "      <td>0.0</td>\n",
              "      <td>0.0</td>\n",
              "      <td>0</td>\n",
              "      <td>0.0</td>\n",
              "      <td>0</td>\n",
              "      <td>0</td>\n",
              "      <td>0.000</td>\n",
              "      <td>0</td>\n",
              "      <td>0.000</td>\n",
              "      <td>0</td>\n",
              "      <td>0</td>\n",
              "      <td>0</td>\n",
              "      <td>40455.0</td>\n",
              "      <td>8</td>\n",
              "      <td>1</td>\n",
              "      <td>0.0</td>\n",
              "    </tr>\n",
              "    <tr>\n",
              "      <th>692168</th>\n",
              "      <td>692168</td>\n",
              "      <td>456252</td>\n",
              "      <td>0</td>\n",
              "      <td>0</td>\n",
              "      <td>0</td>\n",
              "      <td>0</td>\n",
              "      <td>0</td>\n",
              "      <td>0</td>\n",
              "      <td>0.0</td>\n",
              "      <td>56821.5</td>\n",
              "      <td>10074.465</td>\n",
              "      <td>0.0</td>\n",
              "      <td>0</td>\n",
              "      <td>0</td>\n",
              "      <td>0</td>\n",
              "      <td>0</td>\n",
              "      <td>0</td>\n",
              "      <td>0.000000</td>\n",
              "      <td>0</td>\n",
              "      <td>0</td>\n",
              "      <td>0.0</td>\n",
              "      <td>0</td>\n",
              "      <td>0</td>\n",
              "      <td>0</td>\n",
              "      <td>0</td>\n",
              "      <td>0</td>\n",
              "      <td>0</td>\n",
              "      <td>0</td>\n",
              "      <td>0</td>\n",
              "      <td>0</td>\n",
              "      <td>0</td>\n",
              "      <td>0</td>\n",
              "      <td>0</td>\n",
              "      <td>0</td>\n",
              "      <td>0</td>\n",
              "      <td>0</td>\n",
              "      <td>0</td>\n",
              "      <td>0</td>\n",
              "      <td>0</td>\n",
              "      <td>0</td>\n",
              "      <td>...</td>\n",
              "      <td>0</td>\n",
              "      <td>0</td>\n",
              "      <td>0</td>\n",
              "      <td>0</td>\n",
              "      <td>0</td>\n",
              "      <td>0</td>\n",
              "      <td>0</td>\n",
              "      <td>0</td>\n",
              "      <td>0</td>\n",
              "      <td>0</td>\n",
              "      <td>0</td>\n",
              "      <td>0</td>\n",
              "      <td>0</td>\n",
              "      <td>0</td>\n",
              "      <td>0</td>\n",
              "      <td>0.000</td>\n",
              "      <td>0.0</td>\n",
              "      <td>0</td>\n",
              "      <td>0.0</td>\n",
              "      <td>0.0</td>\n",
              "      <td>0</td>\n",
              "      <td>0</td>\n",
              "      <td>0.0</td>\n",
              "      <td>0.0</td>\n",
              "      <td>0.0</td>\n",
              "      <td>0.0</td>\n",
              "      <td>0</td>\n",
              "      <td>0.0</td>\n",
              "      <td>0</td>\n",
              "      <td>0</td>\n",
              "      <td>0.000</td>\n",
              "      <td>0</td>\n",
              "      <td>0.000</td>\n",
              "      <td>0</td>\n",
              "      <td>0</td>\n",
              "      <td>0</td>\n",
              "      <td>57595.5</td>\n",
              "      <td>6</td>\n",
              "      <td>1</td>\n",
              "      <td>3456.0</td>\n",
              "    </tr>\n",
              "    <tr>\n",
              "      <th>692169</th>\n",
              "      <td>692169</td>\n",
              "      <td>456253</td>\n",
              "      <td>0</td>\n",
              "      <td>0</td>\n",
              "      <td>0</td>\n",
              "      <td>0</td>\n",
              "      <td>0</td>\n",
              "      <td>0</td>\n",
              "      <td>0.0</td>\n",
              "      <td>41251.5</td>\n",
              "      <td>9540.810</td>\n",
              "      <td>0.0</td>\n",
              "      <td>0</td>\n",
              "      <td>0</td>\n",
              "      <td>0</td>\n",
              "      <td>0</td>\n",
              "      <td>0</td>\n",
              "      <td>0.000000</td>\n",
              "      <td>0</td>\n",
              "      <td>0</td>\n",
              "      <td>0.0</td>\n",
              "      <td>0</td>\n",
              "      <td>0</td>\n",
              "      <td>0</td>\n",
              "      <td>0</td>\n",
              "      <td>0</td>\n",
              "      <td>0</td>\n",
              "      <td>0</td>\n",
              "      <td>0</td>\n",
              "      <td>0</td>\n",
              "      <td>0</td>\n",
              "      <td>0</td>\n",
              "      <td>0</td>\n",
              "      <td>0</td>\n",
              "      <td>0</td>\n",
              "      <td>0</td>\n",
              "      <td>0</td>\n",
              "      <td>0</td>\n",
              "      <td>0</td>\n",
              "      <td>0</td>\n",
              "      <td>...</td>\n",
              "      <td>0</td>\n",
              "      <td>0</td>\n",
              "      <td>0</td>\n",
              "      <td>0</td>\n",
              "      <td>0</td>\n",
              "      <td>0</td>\n",
              "      <td>0</td>\n",
              "      <td>0</td>\n",
              "      <td>0</td>\n",
              "      <td>0</td>\n",
              "      <td>0</td>\n",
              "      <td>0</td>\n",
              "      <td>0</td>\n",
              "      <td>0</td>\n",
              "      <td>0</td>\n",
              "      <td>0.000</td>\n",
              "      <td>0.0</td>\n",
              "      <td>0</td>\n",
              "      <td>0.0</td>\n",
              "      <td>0.0</td>\n",
              "      <td>0</td>\n",
              "      <td>0</td>\n",
              "      <td>0.0</td>\n",
              "      <td>0.0</td>\n",
              "      <td>0.0</td>\n",
              "      <td>0.0</td>\n",
              "      <td>0</td>\n",
              "      <td>0.0</td>\n",
              "      <td>0</td>\n",
              "      <td>0</td>\n",
              "      <td>0.000</td>\n",
              "      <td>0</td>\n",
              "      <td>0.000</td>\n",
              "      <td>0</td>\n",
              "      <td>0</td>\n",
              "      <td>0</td>\n",
              "      <td>48325.5</td>\n",
              "      <td>10</td>\n",
              "      <td>2</td>\n",
              "      <td>8806.5</td>\n",
              "    </tr>\n",
              "    <tr>\n",
              "      <th>692170</th>\n",
              "      <td>692170</td>\n",
              "      <td>456254</td>\n",
              "      <td>0</td>\n",
              "      <td>0</td>\n",
              "      <td>0</td>\n",
              "      <td>0</td>\n",
              "      <td>0</td>\n",
              "      <td>0</td>\n",
              "      <td>0.0</td>\n",
              "      <td>268879.5</td>\n",
              "      <td>21362.265</td>\n",
              "      <td>0.0</td>\n",
              "      <td>0</td>\n",
              "      <td>0</td>\n",
              "      <td>0</td>\n",
              "      <td>0</td>\n",
              "      <td>0</td>\n",
              "      <td>0.000000</td>\n",
              "      <td>0</td>\n",
              "      <td>0</td>\n",
              "      <td>0.0</td>\n",
              "      <td>0</td>\n",
              "      <td>0</td>\n",
              "      <td>0</td>\n",
              "      <td>0</td>\n",
              "      <td>0</td>\n",
              "      <td>0</td>\n",
              "      <td>0</td>\n",
              "      <td>0</td>\n",
              "      <td>0</td>\n",
              "      <td>0</td>\n",
              "      <td>0</td>\n",
              "      <td>0</td>\n",
              "      <td>0</td>\n",
              "      <td>0</td>\n",
              "      <td>0</td>\n",
              "      <td>0</td>\n",
              "      <td>0</td>\n",
              "      <td>0</td>\n",
              "      <td>0</td>\n",
              "      <td>...</td>\n",
              "      <td>0</td>\n",
              "      <td>0</td>\n",
              "      <td>0</td>\n",
              "      <td>0</td>\n",
              "      <td>0</td>\n",
              "      <td>0</td>\n",
              "      <td>0</td>\n",
              "      <td>0</td>\n",
              "      <td>0</td>\n",
              "      <td>0</td>\n",
              "      <td>0</td>\n",
              "      <td>0</td>\n",
              "      <td>0</td>\n",
              "      <td>0</td>\n",
              "      <td>0</td>\n",
              "      <td>0.000</td>\n",
              "      <td>0.0</td>\n",
              "      <td>0</td>\n",
              "      <td>0.0</td>\n",
              "      <td>0.0</td>\n",
              "      <td>0</td>\n",
              "      <td>0</td>\n",
              "      <td>0.0</td>\n",
              "      <td>0.0</td>\n",
              "      <td>0.0</td>\n",
              "      <td>0.0</td>\n",
              "      <td>0</td>\n",
              "      <td>0.0</td>\n",
              "      <td>0</td>\n",
              "      <td>0</td>\n",
              "      <td>0.000</td>\n",
              "      <td>0</td>\n",
              "      <td>0.000</td>\n",
              "      <td>0</td>\n",
              "      <td>0</td>\n",
              "      <td>0</td>\n",
              "      <td>242635.5</td>\n",
              "      <td>30</td>\n",
              "      <td>2</td>\n",
              "      <td>0.0</td>\n",
              "    </tr>\n",
              "    <tr>\n",
              "      <th>692171</th>\n",
              "      <td>692171</td>\n",
              "      <td>456255</td>\n",
              "      <td>0</td>\n",
              "      <td>0</td>\n",
              "      <td>0</td>\n",
              "      <td>0</td>\n",
              "      <td>0</td>\n",
              "      <td>0</td>\n",
              "      <td>0.0</td>\n",
              "      <td>3395448.0</td>\n",
              "      <td>166203.135</td>\n",
              "      <td>0.0</td>\n",
              "      <td>0</td>\n",
              "      <td>0</td>\n",
              "      <td>0</td>\n",
              "      <td>0</td>\n",
              "      <td>0</td>\n",
              "      <td>0.000000</td>\n",
              "      <td>0</td>\n",
              "      <td>0</td>\n",
              "      <td>0.0</td>\n",
              "      <td>0</td>\n",
              "      <td>0</td>\n",
              "      <td>0</td>\n",
              "      <td>0</td>\n",
              "      <td>0</td>\n",
              "      <td>0</td>\n",
              "      <td>0</td>\n",
              "      <td>0</td>\n",
              "      <td>0</td>\n",
              "      <td>0</td>\n",
              "      <td>0</td>\n",
              "      <td>0</td>\n",
              "      <td>0</td>\n",
              "      <td>0</td>\n",
              "      <td>0</td>\n",
              "      <td>0</td>\n",
              "      <td>0</td>\n",
              "      <td>0</td>\n",
              "      <td>0</td>\n",
              "      <td>...</td>\n",
              "      <td>0</td>\n",
              "      <td>0</td>\n",
              "      <td>0</td>\n",
              "      <td>0</td>\n",
              "      <td>0</td>\n",
              "      <td>0</td>\n",
              "      <td>0</td>\n",
              "      <td>0</td>\n",
              "      <td>0</td>\n",
              "      <td>0</td>\n",
              "      <td>0</td>\n",
              "      <td>0</td>\n",
              "      <td>0</td>\n",
              "      <td>0</td>\n",
              "      <td>0</td>\n",
              "      <td>0.000</td>\n",
              "      <td>0.0</td>\n",
              "      <td>0</td>\n",
              "      <td>0.0</td>\n",
              "      <td>0.0</td>\n",
              "      <td>0</td>\n",
              "      <td>0</td>\n",
              "      <td>0.0</td>\n",
              "      <td>0.0</td>\n",
              "      <td>0.0</td>\n",
              "      <td>0.0</td>\n",
              "      <td>0</td>\n",
              "      <td>0.0</td>\n",
              "      <td>0</td>\n",
              "      <td>0</td>\n",
              "      <td>0.000</td>\n",
              "      <td>0</td>\n",
              "      <td>0.000</td>\n",
              "      <td>0</td>\n",
              "      <td>0</td>\n",
              "      <td>0</td>\n",
              "      <td>2902167.0</td>\n",
              "      <td>174</td>\n",
              "      <td>8</td>\n",
              "      <td>14823.0</td>\n",
              "    </tr>\n",
              "  </tbody>\n",
              "</table>\n",
              "<p>692172 rows × 148 columns</p>\n",
              "</div>"
            ],
            "text/plain": [
              "        Unnamed: 0  SK_ID_CURR  ...  PREVIOUS_COUNTS AMT_DOWN_PAYMENT\n",
              "0                0      100002  ...                0              0.0\n",
              "1                1      100003  ...                0              0.0\n",
              "2                2      100004  ...                0              0.0\n",
              "3                3      100007  ...                0              0.0\n",
              "4                4      100008  ...                0              0.0\n",
              "...            ...         ...  ...              ...              ...\n",
              "692167      692167      456251  ...                1              0.0\n",
              "692168      692168      456252  ...                1           3456.0\n",
              "692169      692169      456253  ...                2           8806.5\n",
              "692170      692170      456254  ...                2              0.0\n",
              "692171      692171      456255  ...                8          14823.0\n",
              "\n",
              "[692172 rows x 148 columns]"
            ]
          },
          "metadata": {},
          "execution_count": 5
        }
      ]
    },
    {
      "cell_type": "markdown",
      "metadata": {
        "id": "6H7CBbdvLZzu"
      },
      "source": [
        "### **Data Preprocessing**"
      ]
    },
    {
      "cell_type": "code",
      "metadata": {
        "colab": {
          "base_uri": "https://localhost:8080/"
        },
        "id": "vtAjlLLjNMe7",
        "cellView": "form",
        "outputId": "d34f17fd-c92d-44fa-f740-a7ff5b0e6e14"
      },
      "source": [
        "#@title Removing Rows with zero values\n",
        "df = df[df['NAME_CONTRACT_TYPE'] != 0]\n",
        "df = df[df['NAME_CONTRACT_TYPE'] != '0']\n",
        "df.shape"
      ],
      "execution_count": null,
      "outputs": [
        {
          "output_type": "execute_result",
          "data": {
            "text/plain": [
              "(263491, 148)"
            ]
          },
          "metadata": {},
          "execution_count": 6
        }
      ]
    },
    {
      "cell_type": "code",
      "metadata": {
        "id": "YsrykKK7lbj2",
        "colab": {
          "base_uri": "https://localhost:8080/"
        },
        "cellView": "form",
        "outputId": "982e7ae9-33b9-487e-aa99-075c3b87a8a1"
      },
      "source": [
        "#@title Calculation of total_payments & total_dues\n",
        "df['total_payment'] = df['AMT_DOWN_PAYMENT'] + df['AMT_PAYMENT_TOTAL_CURRENT']\n",
        "df['amount_dues'] = df['AMT_CREDIT'] + (df['AMT_CREDIT_LIMIT_ACTUAL'] - df['AMT_BALANCE'] - df['AMT_PAYMENT_TOTAL_CURRENT'])\n",
        "df.shape"
      ],
      "execution_count": null,
      "outputs": [
        {
          "output_type": "execute_result",
          "data": {
            "text/plain": [
              "(263491, 150)"
            ]
          },
          "metadata": {},
          "execution_count": 7
        }
      ]
    },
    {
      "cell_type": "code",
      "metadata": {
        "colab": {
          "base_uri": "https://localhost:8080/"
        },
        "id": "Gk3AaneUJ-hH",
        "cellView": "form",
        "outputId": "9ebaee75-50e5-45a8-cc8d-01b0ccce7ccc"
      },
      "source": [
        "#@title Data Validation\n",
        "df = df[df['total_payment'] < df['amount_dues']]\n",
        "df = df[df['amount_dues'] >= 0]\n",
        "df.shape"
      ],
      "execution_count": null,
      "outputs": [
        {
          "output_type": "execute_result",
          "data": {
            "text/plain": [
              "(261082, 150)"
            ]
          },
          "metadata": {},
          "execution_count": 8
        }
      ]
    },
    {
      "cell_type": "markdown",
      "metadata": {
        "id": "XnbcnWo8w6Jm"
      },
      "source": [
        "**Loss given default (LGD)** is the amount of money a bank or other financial institution loses when a borrower defaults on a loan, depicted as a percentage of total exposure at the time of default. A financial institution’s total LGD is calculated after a review of all outstanding loans using cumulative losses and exposure.<br>\n",
        "It means how much of the amount outstanding we expect to lose. It is a proportion of the total exposure when borrower defaults. It is calculated by (1 - Recovery Rate)."
      ]
    },
    {
      "cell_type": "code",
      "metadata": {
        "colab": {
          "base_uri": "https://localhost:8080/"
        },
        "id": "gz9s5HaqKN8I",
        "cellView": "form",
        "outputId": "240b4417-92bd-4d41-c882-2f43e5673119"
      },
      "source": [
        "#@title Calculation of columns **remaining** and **LGD**\n",
        "df['remaining'] = df['amount_dues'] - df['total_payment']\n",
        "df['recovery_rate'] = df['total_payment'] / (df['amount_dues'] + df['total_payment'])\n",
        "df['LGD'] = 1 - df['recovery_rate']\n",
        "df.shape"
      ],
      "execution_count": null,
      "outputs": [
        {
          "output_type": "execute_result",
          "data": {
            "text/plain": [
              "(261082, 153)"
            ]
          },
          "metadata": {},
          "execution_count": 9
        }
      ]
    },
    {
      "cell_type": "code",
      "metadata": {
        "colab": {
          "base_uri": "https://localhost:8080/"
        },
        "id": "umvkhFwzKYaE",
        "cellView": "form",
        "outputId": "e4c88ff0-6f5d-46c0-c70b-5b79631db609"
      },
      "source": [
        "#@title Data Validation on LGD\n",
        "print(df[df['LGD'] > 1].shape)\n",
        "print(df[df['LGD'] < 0].shape)"
      ],
      "execution_count": null,
      "outputs": [
        {
          "output_type": "stream",
          "name": "stdout",
          "text": [
            "(0, 153)\n",
            "(0, 153)\n"
          ]
        }
      ]
    },
    {
      "cell_type": "markdown",
      "metadata": {
        "id": "9Fo8cXk9Ku0u"
      },
      "source": [
        "### **Categorical dataframe separation**"
      ]
    },
    {
      "cell_type": "code",
      "metadata": {
        "colab": {
          "base_uri": "https://localhost:8080/"
        },
        "id": "_up6AZpkKauc",
        "cellView": "code",
        "outputId": "41108a1d-b2d9-42e0-9365-40a1a1568c27"
      },
      "source": [
        "cat_df=df.select_dtypes(include=['object'])\n",
        "cat_df.columns"
      ],
      "execution_count": null,
      "outputs": [
        {
          "output_type": "execute_result",
          "data": {
            "text/plain": [
              "Index(['NAME_CONTRACT_TYPE', 'CODE_GENDER', 'FLAG_OWN_CAR', 'FLAG_OWN_REALTY',\n",
              "       'NAME_TYPE_SUITE', 'NAME_INCOME_TYPE', 'NAME_EDUCATION_TYPE',\n",
              "       'NAME_FAMILY_STATUS', 'NAME_HOUSING_TYPE', 'OCCUPATION_TYPE',\n",
              "       'WEEKDAY_APPR_PROCESS_START', 'ORGANIZATION_TYPE', 'FONDKAPREMONT_MODE',\n",
              "       'HOUSETYPE_MODE', 'WALLSMATERIAL_MODE', 'EMERGENCYSTATE_MODE'],\n",
              "      dtype='object')"
            ]
          },
          "metadata": {},
          "execution_count": 11
        }
      ]
    },
    {
      "cell_type": "code",
      "metadata": {
        "colab": {
          "base_uri": "https://localhost:8080/"
        },
        "id": "e2qpxdntK0Tv",
        "outputId": "c08eb1a1-3522-4b74-acb7-d938ed596a00"
      },
      "source": [
        "cat_df.nunique()"
      ],
      "execution_count": null,
      "outputs": [
        {
          "output_type": "execute_result",
          "data": {
            "text/plain": [
              "NAME_CONTRACT_TYPE             2\n",
              "CODE_GENDER                    3\n",
              "FLAG_OWN_CAR                   2\n",
              "FLAG_OWN_REALTY                2\n",
              "NAME_TYPE_SUITE                8\n",
              "NAME_INCOME_TYPE               8\n",
              "NAME_EDUCATION_TYPE            5\n",
              "NAME_FAMILY_STATUS             6\n",
              "NAME_HOUSING_TYPE              6\n",
              "OCCUPATION_TYPE               19\n",
              "WEEKDAY_APPR_PROCESS_START     7\n",
              "ORGANIZATION_TYPE             58\n",
              "FONDKAPREMONT_MODE             5\n",
              "HOUSETYPE_MODE                 4\n",
              "WALLSMATERIAL_MODE             8\n",
              "EMERGENCYSTATE_MODE            3\n",
              "dtype: int64"
            ]
          },
          "metadata": {},
          "execution_count": 12
        }
      ]
    },
    {
      "cell_type": "code",
      "metadata": {
        "colab": {
          "base_uri": "https://localhost:8080/"
        },
        "id": "XnD6FV6-K2bS",
        "outputId": "d9515c6e-96d4-4157-88bc-3aebe10f6aa0"
      },
      "source": [
        "cat_df1 = cat_df.drop(['OCCUPATION_TYPE','ORGANIZATION_TYPE'], axis=1)\n",
        "cat_df1.shape"
      ],
      "execution_count": null,
      "outputs": [
        {
          "output_type": "execute_result",
          "data": {
            "text/plain": [
              "(261082, 14)"
            ]
          },
          "metadata": {},
          "execution_count": 13
        }
      ]
    },
    {
      "cell_type": "code",
      "metadata": {
        "colab": {
          "base_uri": "https://localhost:8080/"
        },
        "id": "yZkibEZbK6vH",
        "outputId": "77147bd9-f987-49e8-b636-f7f049e1fe59"
      },
      "source": [
        "cat_df1 = pd.get_dummies(cat_df1)\n",
        "cat_df1.shape"
      ],
      "execution_count": null,
      "outputs": [
        {
          "output_type": "execute_result",
          "data": {
            "text/plain": [
              "(261082, 69)"
            ]
          },
          "metadata": {},
          "execution_count": 14
        }
      ]
    },
    {
      "cell_type": "markdown",
      "metadata": {
        "id": "uAep6SQZK_OF"
      },
      "source": [
        "### **Numerical data seperation**"
      ]
    },
    {
      "cell_type": "code",
      "metadata": {
        "colab": {
          "base_uri": "https://localhost:8080/"
        },
        "id": "N_1ABUD3K9Ez",
        "outputId": "8714a661-4bf1-498d-c4b9-4e66192b8e46"
      },
      "source": [
        "num_df=df.select_dtypes(include=['int','float'])\n",
        "num_df.columns"
      ],
      "execution_count": null,
      "outputs": [
        {
          "output_type": "execute_result",
          "data": {
            "text/plain": [
              "Index(['Unnamed: 0', 'SK_ID_CURR', 'TARGET', 'CNT_CHILDREN',\n",
              "       'AMT_INCOME_TOTAL', 'AMT_CREDIT', 'AMT_ANNUITY', 'AMT_GOODS_PRICE',\n",
              "       'REGION_POPULATION_RELATIVE', 'DAYS_BIRTH',\n",
              "       ...\n",
              "       'PREVIOUS_CASH_LOAN_COUNTS', 'AMT_APPLICATION', 'CNT_PAYMENT',\n",
              "       'PREVIOUS_COUNTS', 'AMT_DOWN_PAYMENT', 'total_payment', 'amount_dues',\n",
              "       'remaining', 'recovery_rate', 'LGD'],\n",
              "      dtype='object', length=137)"
            ]
          },
          "metadata": {},
          "execution_count": 15
        }
      ]
    },
    {
      "cell_type": "code",
      "metadata": {
        "colab": {
          "base_uri": "https://localhost:8080/"
        },
        "id": "4klL7e7BLCl4",
        "outputId": "4f48865b-b57d-4105-d800-eb100cc57908"
      },
      "source": [
        "num_df.nunique()"
      ],
      "execution_count": null,
      "outputs": [
        {
          "output_type": "execute_result",
          "data": {
            "text/plain": [
              "Unnamed: 0          261082\n",
              "SK_ID_CURR          261082\n",
              "TARGET                   2\n",
              "CNT_CHILDREN            15\n",
              "AMT_INCOME_TOTAL      2164\n",
              "                     ...  \n",
              "total_payment        44536\n",
              "amount_dues          69201\n",
              "remaining            69213\n",
              "recovery_rate        50309\n",
              "LGD                  50309\n",
              "Length: 137, dtype: int64"
            ]
          },
          "metadata": {},
          "execution_count": 16
        }
      ]
    },
    {
      "cell_type": "markdown",
      "metadata": {
        "id": "_Ig721XrPC6C"
      },
      "source": [
        "### **EDA**"
      ]
    },
    {
      "cell_type": "code",
      "metadata": {
        "id": "jqTo5J16PK6z",
        "colab": {
          "base_uri": "https://localhost:8080/",
          "height": 609
        },
        "cellView": "form",
        "outputId": "31388688-ead9-40e4-9315-7ea54353be59"
      },
      "source": [
        "#@title Pie- Chart to compare total_dues of males and females\n",
        "tempM = df[df['CODE_GENDER'] == 'M']\n",
        "tempF = df[df['CODE_GENDER'] == 'F']\n",
        "temp = pd.concat([tempM, tempF], axis=0)\n",
        "temp.groupby(['CODE_GENDER']).count().plot.pie(y='amount_dues', figsize=(10,10), autopct='%1.2f%%', title=\"Male vs Female in the dataset\")"
      ],
      "execution_count": null,
      "outputs": [
        {
          "output_type": "execute_result",
          "data": {
            "text/plain": [
              "<matplotlib.axes._subplots.AxesSubplot at 0x7f154ae7d390>"
            ]
          },
          "metadata": {},
          "execution_count": 17
        },
        {
          "output_type": "display_data",
          "data": {
            "image/png": "[encoded data removed]",
            "text/plain": [
              "<Figure size 720x720 with 1 Axes>"
            ]
          },
          "metadata": {}
        }
      ]
    },
    {
      "cell_type": "markdown",
      "metadata": {
        "id": "Y_FdspPRQF2B"
      },
      "source": [
        "From the Pie- Plot we can observe that there Female Clients who have applied for the loans show **more dues** than Men."
      ]
    },
    {
      "cell_type": "code",
      "metadata": {
        "colab": {
          "base_uri": "https://localhost:8080/"
        },
        "id": "80-fDUB9PJ-p",
        "outputId": "248cff53-9806-4b59-9608-d41e8c7657d3"
      },
      "source": [
        "print(df['AMT_INCOME_TOTAL'].min())\n",
        "print(df['AMT_INCOME_TOTAL'].max())\n",
        "bins = [0, 25000, 50000, 75000, 100000,1000000]\n",
        "slot = ['0-25000', '25000-50000', '50000-75000', '75000-100000', '100000 and above']\n",
        "df['AMT_INCOME_BIN'] = pd.cut(df['AMT_INCOME_TOTAL'], bins, labels=slot)\n",
        "tempY=df['AMT_INCOME_TOTAL'][df['FLAG_OWN_CAR']=='Y']\n",
        "tempN=df['AMT_INCOME_TOTAL'][df['FLAG_OWN_CAR']=='N']\n",
        "conn=pd.concat([tempY,tempN],axis=1)\n",
        "temp_tot=df['AMT_INCOME_TOTAL']\n",
        "bins = [0, 25000, 50000, 75000, 100000,1000000]\n",
        "tempY=pd.cut(tempY,bins).value_counts()\n",
        "temp_tot=pd.cut(temp_tot,bins).value_counts()\n",
        "per= tempY.div(temp_tot)*100"
      ],
      "execution_count": null,
      "outputs": [
        {
          "output_type": "stream",
          "name": "stdout",
          "text": [
            "26100.0\n",
            "117000000.0\n"
          ]
        }
      ]
    },
    {
      "cell_type": "code",
      "metadata": {
        "colab": {
          "base_uri": "https://localhost:8080/",
          "height": 639
        },
        "id": "K5MXy9O3Q7_x",
        "outputId": "1f7c9621-32f9-441c-af82-c9d6d3ac65d7"
      },
      "source": [
        "plt.figure(figsize=(10,10))\n",
        "sns.barplot(x=per.index,y=per)\n",
        "plt.ylabel('Percentage of Own Car')\n",
        "plt.xlabel('INCOME GROUPS')\n",
        "plt.title('Percentage of People owning cars In each Income Groups')"
      ],
      "execution_count": null,
      "outputs": [
        {
          "output_type": "execute_result",
          "data": {
            "text/plain": [
              "Text(0.5, 1.0, 'Percentage of People owning cars In each Income Groups')"
            ]
          },
          "metadata": {},
          "execution_count": 19
        },
        {
          "output_type": "display_data",
          "data": {
            "image/png": "[encoded data removed]",
            "text/plain": [
              "<Figure size 720x720 with 1 Axes>"
            ]
          },
          "metadata": {
            "needs_background": "light"
          }
        }
      ]
    },
    {
      "cell_type": "markdown",
      "metadata": {
        "id": "tgFGSQb3RNxa"
      },
      "source": [
        "People having more number of cars falls under higher category range"
      ]
    },
    {
      "cell_type": "code",
      "metadata": {
        "colab": {
          "base_uri": "https://localhost:8080/",
          "height": 783
        },
        "id": "FmMSvF5cQ79d",
        "outputId": "2172c7e3-94ac-4a79-e4bb-e07399de434d"
      },
      "source": [
        "plt.figure(figsize=(10,10))\n",
        "percentage_defaulter_per_category = (df['NAME_EDUCATION_TYPE'][df.TARGET == 1].value_counts() * 100 / df['NAME_EDUCATION_TYPE'].value_counts()).dropna()\n",
        "sns.barplot(x = percentage_defaulter_per_category.index, y = percentage_defaulter_per_category)\n",
        "plt.ylabel('Percentage of Defaulter per category')\n",
        "plt.xlabel('NAME_EDUCATION_TYPE')\n",
        "plt.xticks(rotation=90)\n",
        "plt.title('Percentage of Defaulters for each category of Education Type')"
      ],
      "execution_count": null,
      "outputs": [
        {
          "output_type": "execute_result",
          "data": {
            "text/plain": [
              "Text(0.5, 1.0, 'Percentage of Defaulters for each category of Education Type')"
            ]
          },
          "metadata": {},
          "execution_count": 20
        },
        {
          "output_type": "display_data",
          "data": {
            "image/png": "[encoded data removed]",
            "text/plain": [
              "<Figure size 720x720 with 1 Axes>"
            ]
          },
          "metadata": {
            "needs_background": "light"
          }
        }
      ]
    },
    {
      "cell_type": "markdown",
      "metadata": {
        "id": "ZLrF-SgEWpJB"
      },
      "source": [
        "\n",
        "\n",
        "*   People having the education of Lower Secondary tend to show more defaulting characteristic\n",
        "*   Whereas the people having an Academic Degree have the least defaulting characteristic\n",
        "\n"
      ]
    },
    {
      "cell_type": "code",
      "metadata": {
        "colab": {
          "base_uri": "https://localhost:8080/",
          "height": 643
        },
        "id": "bn-_k_4EQ77K",
        "outputId": "97c24b4d-2fa1-45cf-be53-7319507a1e0c"
      },
      "source": [
        "plt.figure(figsize=(10,10))\n",
        "percentage_defaulter_per_category = (df['CNT_CHILDREN'][df.TARGET == 1].value_counts() * 100 / df['CNT_CHILDREN'].value_counts()).dropna()\n",
        "sns.barplot(x = percentage_defaulter_per_category.index, y = percentage_defaulter_per_category)\n",
        "plt.ylabel('Percentage of Defaulter')\n",
        "plt.xlabel('CNT_CHILDREN')\n",
        "plt.xticks(rotation=90)\n",
        "plt.title('Percentage of Defaulters with CNT_CHILDREN')"
      ],
      "execution_count": null,
      "outputs": [
        {
          "output_type": "execute_result",
          "data": {
            "text/plain": [
              "Text(0.5, 1.0, 'Percentage of Defaulters with CNT_CHILDREN')"
            ]
          },
          "metadata": {},
          "execution_count": 21
        },
        {
          "output_type": "display_data",
          "data": {
            "image/png": "[encoded data removed]",
            "text/plain": [
              "<Figure size 720x720 with 1 Axes>"
            ]
          },
          "metadata": {
            "needs_background": "light"
          }
        }
      ]
    },
    {
      "cell_type": "markdown",
      "metadata": {
        "id": "U5ev4hp3XTJ2"
      },
      "source": [
        "Customers having more no. of children shows greater defaulting characteristic"
      ]
    },
    {
      "cell_type": "code",
      "metadata": {
        "colab": {
          "base_uri": "https://localhost:8080/",
          "height": 639
        },
        "id": "G85cDai2Q74V",
        "outputId": "7fd0466c-488c-471d-ca1c-ee89349c4953"
      },
      "source": [
        "temp0=df['DAYS_BIRTH'][df['TARGET']==0]\n",
        "temp1=df['DAYS_BIRTH'][df['TARGET']==1]\n",
        "con=pd.concat([temp0,temp1],axis=1)\n",
        "temp_total=df['DAYS_BIRTH']/-365\n",
        "bins=[20,25,30,35,40,45,50,55,60,65,100]\n",
        "temp1=pd.cut(temp1/-365,bins).value_counts()\n",
        "temp_total=pd.cut(temp_total,bins).value_counts()\n",
        "percent = temp1.div(temp_total)*100\n",
        "plt.figure(figsize=(10,10))\n",
        "sns.barplot(x=percent.index,y=percent)\n",
        "plt.ylabel('Percentage of Defaulter in each age group')\n",
        "plt.xlabel('AGE GROUPS')\n",
        "plt.title('Percentage of Defaulters In each age groups')"
      ],
      "execution_count": null,
      "outputs": [
        {
          "output_type": "execute_result",
          "data": {
            "text/plain": [
              "Text(0.5, 1.0, 'Percentage of Defaulters In each age groups')"
            ]
          },
          "metadata": {},
          "execution_count": 22
        },
        {
          "output_type": "display_data",
          "data": {
            "image/png": "[encoded data removed]",
            "text/plain": [
              "<Figure size 720x720 with 1 Axes>"
            ]
          },
          "metadata": {
            "needs_background": "light"
          }
        }
      ]
    },
    {
      "cell_type": "markdown",
      "metadata": {
        "id": "1lrfFgIrXrtW"
      },
      "source": [
        "Customers falling in the age group 20-25 tend to shows higher defaulting characteristic.\n",
        "We can also observe that people in older age groups shows less defaulting characteristic"
      ]
    },
    {
      "cell_type": "code",
      "metadata": {
        "id": "YhRDYaOi8fvh",
        "colab": {
          "base_uri": "https://localhost:8080/",
          "height": 999
        },
        "outputId": "8988e0c1-3e86-4368-f7df-adf751549fec"
      },
      "source": [
        "fig, ax=plt.subplots(figsize=(18,15))\n",
        "sns.barplot(x=df['OCCUPATION_TYPE'],y=df['total_payment'], ax=ax)\n",
        "plt.xticks(rotation=60)"
      ],
      "execution_count": null,
      "outputs": [
        {
          "output_type": "execute_result",
          "data": {
            "text/plain": [
              "(array([ 0,  1,  2,  3,  4,  5,  6,  7,  8,  9, 10, 11, 12, 13, 14, 15, 16,\n",
              "        17, 18]), <a list of 19 Text major ticklabel objects>)"
            ]
          },
          "metadata": {},
          "execution_count": 23
        },
        {
          "output_type": "display_data",
          "data": {
            "image/png": "[encoded data removed]",
            "text/plain": [
              "<Figure size 1296x1080 with 1 Axes>"
            ]
          },
          "metadata": {
            "needs_background": "light"
          }
        }
      ]
    },
    {
      "cell_type": "markdown",
      "metadata": {
        "id": "V1Ysh7hSZ3id"
      },
      "source": [
        "\n",
        "\n",
        "*   The occupation type low-skill labourers show least total payments\n",
        "*   The occupation type Reality agent shows highest total payments\n",
        "\n"
      ]
    },
    {
      "cell_type": "markdown",
      "metadata": {
        "id": "ELvCcRUNSiPb"
      },
      "source": [
        "### **Pandas Profiling**"
      ]
    },
    {
      "cell_type": "code",
      "metadata": {
        "id": "gPKZg8fCSCXg"
      },
      "source": [
        "! pip install https://github.com/pandas-profiling/pandas-profiling/archive/master.zip"
      ],
      "execution_count": null,
      "outputs": []
    },
    {
      "cell_type": "code",
      "metadata": {
        "colab": {
          "base_uri": "https://localhost:8080/",
          "height": 145,
          "referenced_widgets": [
            "e3070dedd5f24173938f3c03a8acf6dd",
            "53f4bf4053ff4a1aa2015377cc0c5a02",
            "142ea76a8cec402080c9b64afa7045ca",
            "6c38fcd2749b417ca2b90c26393c25df",
            "d32fe0c35cfb4831a6a783af4ccadeb8",
            "8bbaa4f3bb9f4197ad204e8cadda7847",
            "7135c2b029894ef5808a46ab4e12af5f",
            "d8819356b04d41dd9fb4b9cb1e938810",
            "e2fff60e44e54955875214a4893f754b",
            "21e4fc02f5d84dec973b15bebc964e78",
            "e9af99b0f4d64c14b9da8d23bcfec16b",
            "96dca9c8bca64841a6d1f183a627dd41",
            "48c76e3413004697b58a4c286b756a62",
            "da267b82f32c4973a5338bddca09762b",
            "e4af46b183a6444eb7f3d2a1e049e134",
            "8a38ae4255724be1bf04dc01f78ae999",
            "47557654dc3b40418d9ca1823f8abd71",
            "5feb0d74d45a4763a38f0412f9ba49bf",
            "8c752d838c46495bb8318da158b81825",
            "be5780470f9a4161b0e0c31fdf2ca8f7",
            "3873381d04a347939bcdf040d105fb13",
            "92c4ec7ceeec4579b8c5384dca08d077",
            "10da73c92af449e8b7855baa209690e0",
            "d1ea53f399124819a0c37ae3616c4a47",
            "f530827a5e184be2811adaa01acece72",
            "c2d824539b54478a957d333f43fff103",
            "28501bf642974312bbc9780aa96d0020",
            "276ee07be22248ef90241c4b58ac37c9",
            "6811c603c4c5433e80f32e76157b4d0d",
            "08d46ccc088a4d70a4c251ae6e1d792e",
            "e4d47f0094834925811aa01c8ed0ff51",
            "a4869b7db9bd4655b2b0feb9915d07c3",
            "4bedb1c901f24c1787450b42e1bd8f93",
            "54006a7bcbe04a3cb33e666330adf423",
            "9acfad1f78504e31bf171aadaa5e873a",
            "79083ff4f63d4660b8c63162fd0aac7f",
            "31b8d26140334607a22359db9ae8eab5",
            "ef83b7e81ce345a9a4d5abbb48c55543",
            "94908aeb24884ac7851a06919257d90d",
            "44731829132642f7ad8e818cbc08a399",
            "00ef9d2fbad74a55bd3fa0b275508321",
            "afe05ba0b572441b975f16e1b606f41a",
            "18c0563a7e6f4710a109fe397a8861a6",
            "431820a4a9f940f6a158b3bd378ccf13"
          ]
        },
        "id": "dO9kD0okSCUD",
        "outputId": "7ba26f61-c5ef-40d3-d4c8-8bf07e5428e8"
      },
      "source": [
        "from pandas_profiling import ProfileReport\n",
        "def report(dataset, title, filename):\n",
        "  profile = ProfileReport(dataset, title=title, minimal=True)\n",
        "  return profile.to_file(filename)\n",
        "report(df,\"Report\",\"output.html\")"
      ],
      "execution_count": null,
      "outputs": [
        {
          "output_type": "display_data",
          "data": {
            "application/vnd.jupyter.widget-view+json": {
              "model_id": "e3070dedd5f24173938f3c03a8acf6dd",
              "version_minor": 0,
              "version_major": 2
            },
            "text/plain": [
              "Summarize dataset:   0%|          | 0/5 [00:00<?, ?it/s]"
            ]
          },
          "metadata": {}
        },
        {
          "output_type": "display_data",
          "data": {
            "application/vnd.jupyter.widget-view+json": {
              "model_id": "96dca9c8bca64841a6d1f183a627dd41",
              "version_minor": 0,
              "version_major": 2
            },
            "text/plain": [
              "Generate report structure:   0%|          | 0/1 [00:00<?, ?it/s]"
            ]
          },
          "metadata": {}
        },
        {
          "output_type": "display_data",
          "data": {
            "application/vnd.jupyter.widget-view+json": {
              "model_id": "10da73c92af449e8b7855baa209690e0",
              "version_minor": 0,
              "version_major": 2
            },
            "text/plain": [
              "Render HTML:   0%|          | 0/1 [00:00<?, ?it/s]"
            ]
          },
          "metadata": {}
        },
        {
          "output_type": "display_data",
          "data": {
            "application/vnd.jupyter.widget-view+json": {
              "model_id": "54006a7bcbe04a3cb33e666330adf423",
              "version_minor": 0,
              "version_major": 2
            },
            "text/plain": [
              "Export report to file:   0%|          | 0/1 [00:00<?, ?it/s]"
            ]
          },
          "metadata": {}
        }
      ]
    },
    {
      "cell_type": "markdown",
      "metadata": {
        "id": "vSJ7gbV8QKTn"
      },
      "source": [
        "**Insights from Pandas Profiling**\n",
        "1. FLAG_MOBIL has constant value \"1.0\"\t\n",
        "2. FLAG_DOCUMENT_2 has constant value \"0.0\"\t\n",
        "3. AMT_DOWN_PAYMENT has constant value \"0.0\"\n",
        "4. df_index has unique values\n",
        "5. Unnamed: 0 has unique values\t\n",
        "6. SK_ID_CURR has unique values \n"
      ]
    },
    {
      "cell_type": "markdown",
      "metadata": {
        "id": "c0QMS0TLLNfk"
      },
      "source": [
        "## **Creation of new dataframe**"
      ]
    },
    {
      "cell_type": "code",
      "metadata": {
        "colab": {
          "base_uri": "https://localhost:8080/"
        },
        "id": "KiUo_kxpLMq7",
        "cellView": "form",
        "outputId": "a5b76f1a-e23b-463b-8ef3-19d2e9ffa9e3"
      },
      "source": [
        "#@title Concatinating categorical and numerical dataframe\n",
        "new_df = pd.concat([cat_df1, num_df], axis=1)\n",
        "new_df.shape"
      ],
      "execution_count": null,
      "outputs": [
        {
          "output_type": "execute_result",
          "data": {
            "text/plain": [
              "(261082, 206)"
            ]
          },
          "metadata": {},
          "execution_count": 24
        }
      ]
    },
    {
      "cell_type": "markdown",
      "metadata": {
        "id": "P7B_oGusUsGu"
      },
      "source": [
        "## **Feature Engineering**"
      ]
    },
    {
      "cell_type": "code",
      "metadata": {
        "colab": {
          "base_uri": "https://localhost:8080/"
        },
        "id": "GYHSW4xWUd4g",
        "cellView": "form",
        "outputId": "4a1b3a4e-d030-4c5e-d8c4-4eb09d4bfdf0"
      },
      "source": [
        "#@title Droping columns causing multicolinearity \n",
        "new_df = new_df.drop(['AMT_DOWN_PAYMENT', 'AMT_PAYMENT_TOTAL_CURRENT', 'AMT_CREDIT', 'AMT_CREDIT_LIMIT_ACTUAL', 'AMT_BALANCE', 'total_payment', 'amount_dues', 'recovery_rate'], axis=1)\n",
        "new_df.shape"
      ],
      "execution_count": null,
      "outputs": [
        {
          "output_type": "execute_result",
          "data": {
            "text/plain": [
              "(261082, 198)"
            ]
          },
          "metadata": {},
          "execution_count": 25
        }
      ]
    },
    {
      "cell_type": "code",
      "metadata": {
        "colab": {
          "base_uri": "https://localhost:8080/"
        },
        "id": "35vxAzLTUd1_",
        "cellView": "form",
        "outputId": "ac7c2e9d-afed-46ea-9719-f136243a9a65"
      },
      "source": [
        "#@title Droping features having constant or unique values\n",
        "new_df = new_df.drop(['FLAG_MOBIL', 'Unnamed: 0', 'SK_ID_CURR', 'DAYS_ID_PUBLISH'], axis=1)\n",
        "new_df.shape"
      ],
      "execution_count": null,
      "outputs": [
        {
          "output_type": "execute_result",
          "data": {
            "text/plain": [
              "(261082, 194)"
            ]
          },
          "metadata": {},
          "execution_count": 26
        }
      ]
    },
    {
      "cell_type": "code",
      "metadata": {
        "id": "K0L84f8_LTld",
        "colab": {
          "base_uri": "https://localhost:8080/"
        },
        "cellView": "form",
        "outputId": "6ae6a5eb-6b36-4837-89d2-baa0ee619e13"
      },
      "source": [
        "#@title Aggregating the 20 Documents to DOCUMENT_SUM\n",
        "cl1 = ['FLAG_DOCUMENT_2', 'FLAG_DOCUMENT_3', 'FLAG_DOCUMENT_4', 'FLAG_DOCUMENT_5', 'FLAG_DOCUMENT_6', 'FLAG_DOCUMENT_7', 'FLAG_DOCUMENT_8', 'FLAG_DOCUMENT_9', 'FLAG_DOCUMENT_10', 'FLAG_DOCUMENT_11', 'FLAG_DOCUMENT_12', 'FLAG_DOCUMENT_13', 'FLAG_DOCUMENT_14', 'FLAG_DOCUMENT_15', 'FLAG_DOCUMENT_16', 'FLAG_DOCUMENT_17', 'FLAG_DOCUMENT_18', 'FLAG_DOCUMENT_19', 'FLAG_DOCUMENT_20', 'FLAG_DOCUMENT_21']\n",
        "\n",
        "new_df['DOCUMENT_SUM'] = new_df[cl1].sum(axis=1)\n",
        "print(\"Minimum documents provided=\",new_df['DOCUMENT_SUM'].min())\n",
        "print(\"Minimum documents provided=\",new_df['DOCUMENT_SUM'].max())\n",
        "# from max 20 docs, we see max of 4 docs (20%) => docs delete\n",
        "print(new_df.shape)\n",
        "new_df = new_df.drop(cl1, axis=1)\n",
        "new_df.shape"
      ],
      "execution_count": null,
      "outputs": [
        {
          "output_type": "stream",
          "name": "stdout",
          "text": [
            "Minimum documents provided= 0\n",
            "Minimum documents provided= 4\n",
            "(261082, 195)\n"
          ]
        },
        {
          "output_type": "execute_result",
          "data": {
            "text/plain": [
              "(261082, 175)"
            ]
          },
          "metadata": {},
          "execution_count": 27
        }
      ]
    },
    {
      "cell_type": "code",
      "metadata": {
        "id": "xjkbwaavVXii",
        "cellView": "form"
      },
      "source": [
        "#@title Segregation of customers into 2 types:\n",
        "#@markdown 1. Documents Provided\n",
        "#@markdown 2. Documents not Provided \n",
        "new_df['FLAG_DOCUMENT_SUM'] = np.NaN\n",
        "for index, row in new_df.iterrows():\n",
        "  if row['DOCUMENT_SUM'] == 0:\n",
        "    new_df.at[index, 'FLAG_DOCUMENT_SUM'] = 0\n",
        "  else: new_df.at[index, 'FLAG_DOCUMENT_SUM'] = 1\n",
        "new_df = new_df.drop(['DOCUMENT_SUM'], axis=1)"
      ],
      "execution_count": null,
      "outputs": []
    },
    {
      "cell_type": "code",
      "metadata": {
        "colab": {
          "base_uri": "https://localhost:8080/"
        },
        "id": "PDFFEMA8VXd6",
        "cellView": "form",
        "outputId": "62dd1b7b-0fe0-40a9-eafb-59824611fe99"
      },
      "source": [
        "#@title Number of inquries to credit bureau in the past 1 year\n",
        "cl2 = ['AMT_REQ_CREDIT_BUREAU_HOUR', 'AMT_REQ_CREDIT_BUREAU_DAY', 'AMT_REQ_CREDIT_BUREAU_WEEK', 'AMT_REQ_CREDIT_BUREAU_MON', 'AMT_REQ_CREDIT_BUREAU_QRT', 'AMT_REQ_CREDIT_BUREAU_YEAR']\n",
        "new_df['AMT_REQ_CREDIT_BUREAU_TOTAL'] = new_df[cl2].sum(axis=1)\n",
        "print(\"Minimum no of inquries=\",new_df['AMT_REQ_CREDIT_BUREAU_TOTAL'].min())\n",
        "print(\"Maximum no of inquries=\",new_df['AMT_REQ_CREDIT_BUREAU_TOTAL'].max())\n",
        "print(new_df.shape)\n",
        "new_df = new_df.drop(cl2, axis=1)\n",
        "new_df.shape"
      ],
      "execution_count": null,
      "outputs": [
        {
          "output_type": "stream",
          "name": "stdout",
          "text": [
            "Minimum no of inquries= 0\n",
            "Maximum no of inquries= 262\n",
            "(261082, 176)\n"
          ]
        },
        {
          "output_type": "execute_result",
          "data": {
            "text/plain": [
              "(261082, 170)"
            ]
          },
          "metadata": {},
          "execution_count": 29
        }
      ]
    },
    {
      "cell_type": "code",
      "metadata": {
        "colab": {
          "base_uri": "https://localhost:8080/"
        },
        "id": "C62lbYQ_VXaA",
        "cellView": "form",
        "outputId": "f200b7f2-b348-4938-fc8b-c5753e7ca10d"
      },
      "source": [
        "#@title \n",
        "cl3 = ['APARTMENTS_AVG', 'BASEMENTAREA_AVG', 'YEARS_BEGINEXPLUATATION_AVG', 'YEARS_BUILD_AVG', 'COMMONAREA_AVG', 'ELEVATORS_AVG', 'ENTRANCES_AVG', 'FLOORSMAX_AVG', 'FLOORSMIN_AVG', 'LANDAREA_AVG', 'LIVINGAPARTMENTS_AVG', 'LIVINGAREA_AVG', 'NONLIVINGAPARTMENTS_AVG', 'NONLIVINGAREA_AVG', 'APARTMENTS_MODE', 'BASEMENTAREA_MODE', 'YEARS_BEGINEXPLUATATION_MODE', 'YEARS_BUILD_MODE', 'COMMONAREA_MODE', 'ELEVATORS_MODE', 'ENTRANCES_MODE', 'FLOORSMAX_MODE', 'FLOORSMIN_MODE', 'LANDAREA_MODE', 'LIVINGAPARTMENTS_MODE', 'LIVINGAREA_MODE', 'NONLIVINGAPARTMENTS_MODE', 'NONLIVINGAREA_MODE', 'APARTMENTS_MEDI', 'BASEMENTAREA_MEDI', 'YEARS_BEGINEXPLUATATION_MEDI', 'YEARS_BUILD_MEDI', 'COMMONAREA_MEDI', 'ELEVATORS_MEDI', 'ENTRANCES_MEDI', 'FLOORSMAX_MEDI', 'FLOORSMIN_MEDI', 'LANDAREA_MEDI', 'LIVINGAPARTMENTS_MEDI', 'LIVINGAREA_MEDI', 'NONLIVINGAPARTMENTS_MEDI', 'NONLIVINGAREA_MEDI', 'TOTALAREA_MODE']\n",
        "print(new_df.shape)\n",
        "new_df = new_df.drop(cl3, axis=1)\n",
        "new_df.shape"
      ],
      "execution_count": null,
      "outputs": [
        {
          "output_type": "stream",
          "name": "stdout",
          "text": [
            "(261082, 170)\n"
          ]
        },
        {
          "output_type": "execute_result",
          "data": {
            "text/plain": [
              "(261082, 127)"
            ]
          },
          "metadata": {},
          "execution_count": 30
        }
      ]
    },
    {
      "cell_type": "markdown",
      "metadata": {
        "id": "UeIRjEQVV1UB"
      },
      "source": [
        "## **Feature Selection**"
      ]
    },
    {
      "cell_type": "code",
      "metadata": {
        "id": "gSyBLA2mLles",
        "cellView": "form"
      },
      "source": [
        "#@title Dependent & Independent variables\n",
        "x = (new_df.loc[:, new_df.columns != 'TARGET']) \n",
        "y = (new_df['TARGET'] )"
      ],
      "execution_count": null,
      "outputs": []
    },
    {
      "cell_type": "code",
      "metadata": {
        "colab": {
          "base_uri": "https://localhost:8080/"
        },
        "id": "zamSO1FxL7Sc",
        "cellView": "form",
        "outputId": "b9e7bcc9-c2c5-4dcf-b504-9942f4908c94"
      },
      "source": [
        "#@title ExtraTreesClassifier for Feature Selection\n",
        "model=ExtraTreesClassifier()\n",
        "model.fit(x,y)"
      ],
      "execution_count": null,
      "outputs": [
        {
          "output_type": "execute_result",
          "data": {
            "text/plain": [
              "ExtraTreesClassifier(bootstrap=False, ccp_alpha=0.0, class_weight=None,\n",
              "                     criterion='gini', max_depth=None, max_features='auto',\n",
              "                     max_leaf_nodes=None, max_samples=None,\n",
              "                     min_impurity_decrease=0.0, min_impurity_split=None,\n",
              "                     min_samples_leaf=1, min_samples_split=2,\n",
              "                     min_weight_fraction_leaf=0.0, n_estimators=100,\n",
              "                     n_jobs=None, oob_score=False, random_state=None, verbose=0,\n",
              "                     warm_start=False)"
            ]
          },
          "metadata": {},
          "execution_count": 32
        }
      ]
    },
    {
      "cell_type": "code",
      "metadata": {
        "id": "StzmHo4jMvzh",
        "cellView": "form",
        "colab": {
          "base_uri": "https://localhost:8080/",
          "height": 592
        },
        "outputId": "f775b824-ee56-4ece-a19c-6946c17f0027"
      },
      "source": [
        "#@title Ploting top 25 features\n",
        "feature_importance=pd.Series(model.feature_importances_,index=x.columns)\n",
        "plt.figure(figsize=(10,10))\n",
        "feature_importance.nlargest(25).plot(kind='barh')\n",
        "plt.show()"
      ],
      "execution_count": null,
      "outputs": [
        {
          "output_type": "display_data",
          "data": {
            "image/png": "[encoded data removed]",
            "text/plain": [
              "<Figure size 720x720 with 1 Axes>"
            ]
          },
          "metadata": {
            "needs_background": "light"
          }
        }
      ]
    },
    {
      "cell_type": "code",
      "metadata": {
        "id": "WAKktmsKPUL7",
        "colab": {
          "base_uri": "https://localhost:8080/"
        },
        "cellView": "form",
        "outputId": "c60391e1-30e3-4906-a6f0-aee229d1002e"
      },
      "source": [
        "#@title \n",
        "col=['EXT_SOURCE_2',                  \n",
        "'EXT_SOURCE_3',               \n",
        "'DAYS_BIRTH',                    \n",
        "'AMT_CREDIT_SUM_DEBT',            \n",
        "'DAYS_REGISTRATION',              \n",
        "'DAYS_LAST_PHONE_CHANGE',         \n",
        "'PREVIOUS_LOAN_COUNTS_BUREAU',    \n",
        "'HOUR_APPR_PROCESS_START',      \n",
        "'AMT_CREDIT_SUM',              \n",
        "'AMT_INCOME_TOTAL',               \n",
        "'CNT_INSTALMENT_FUTURE',          \n",
        "'REGION_POPULATION_RELATIVE',   \n",
        "'AMT_ANNUITY',                    \n",
        "'AMT_REQ_CREDIT_BUREAU_TOTAL',    \n",
        "'AMT_GOODS_PRICE',              \n",
        "'CNT_INSTALMENT',               \n",
        "'AMT_INSTALMENT',               \n",
        "'PREVIOUS_CASH_LOAN_COUNTS',      \n",
        "'AMT_PAYMENT',                   \n",
        "'NUM_INSTALMENT_NUMBER',       \n",
        "'DAYS_EMPLOYED',                  \n",
        "'PREVIOUS_COUNTS_INST',           \n",
        "'remaining',                     \n",
        "'EXT_SOURCE_1',                   \n",
        "'OBS_30_CNT_SOCIAL_CIRCLE'        \n",
        "]\n",
        "len(col)"
      ],
      "execution_count": null,
      "outputs": [
        {
          "output_type": "execute_result",
          "data": {
            "text/plain": [
              "25"
            ]
          },
          "metadata": {},
          "execution_count": 34
        }
      ]
    },
    {
      "cell_type": "code",
      "metadata": {
        "id": "ZePE3vgSDcPV",
        "colab": {
          "base_uri": "https://localhost:8080/"
        },
        "cellView": "form",
        "outputId": "12306e60-adb9-4eda-f2b7-786ec09bd7f9"
      },
      "source": [
        "#@title Creation of final dataframe\n",
        "final_df = pd.DataFrame()\n",
        "for i in col:\n",
        "  final_df = pd.concat([final_df, new_df[i]], axis=1)\n",
        "final_df.shape"
      ],
      "execution_count": null,
      "outputs": [
        {
          "output_type": "execute_result",
          "data": {
            "text/plain": [
              "(261082, 25)"
            ]
          },
          "metadata": {},
          "execution_count": 35
        }
      ]
    },
    {
      "cell_type": "code",
      "metadata": {
        "id": "P4s-T4bkCz-G",
        "cellView": "form"
      },
      "source": [
        "#@title Segregating final dataframe into dependent and independent variables\n",
        "x = (final_df.loc[:, final_df.columns != 'TARGET']) \n",
        "y= (new_df['TARGET'] )\n"
      ],
      "execution_count": null,
      "outputs": []
    },
    {
      "cell_type": "markdown",
      "metadata": {
        "id": "piRhJaunZL0A"
      },
      "source": [
        "### **Over & under Sampling using SMOTETomek**"
      ]
    },
    {
      "cell_type": "code",
      "metadata": {
        "id": "nNCsKvZP1Z3d"
      },
      "source": [
        "from imblearn.combine import SMOTETomek\n",
        "from collections import Counter\n",
        "smk = SMOTETomek()"
      ],
      "execution_count": null,
      "outputs": []
    },
    {
      "cell_type": "code",
      "metadata": {
        "colab": {
          "base_uri": "https://localhost:8080/"
        },
        "id": "luxpLzQNe9nT",
        "outputId": "23855e41-8fc2-452d-b118-3d432802bf5a"
      },
      "source": [
        "x_train_smote,y_train_smote=smk.fit_sample(x,y)"
      ],
      "execution_count": null,
      "outputs": [
        {
          "output_type": "stream",
          "name": "stderr",
          "text": [
            "/usr/local/lib/python3.7/dist-packages/sklearn/utils/deprecation.py:87: FutureWarning:\n",
            "\n",
            "Function safe_indexing is deprecated; safe_indexing is deprecated in version 0.22 and will be removed in version 0.24.\n",
            "\n",
            "/usr/local/lib/python3.7/dist-packages/sklearn/utils/deprecation.py:87: FutureWarning:\n",
            "\n",
            "Function safe_indexing is deprecated; safe_indexing is deprecated in version 0.22 and will be removed in version 0.24.\n",
            "\n"
          ]
        }
      ]
    },
    {
      "cell_type": "code",
      "metadata": {
        "colab": {
          "base_uri": "https://localhost:8080/"
        },
        "id": "SwiXCAsIim29",
        "outputId": "5531c2e1-a0f0-4bd3-e28a-1159657adb01"
      },
      "source": [
        "print('Original shape {}'.format(Counter(y)))\n",
        "print('Resampled shape {}'.format(Counter(y_train_smote)))"
      ],
      "execution_count": null,
      "outputs": [
        {
          "output_type": "stream",
          "name": "stdout",
          "text": [
            "Original shape Counter({0: 241032, 1: 20050})\n",
            "Resampled shape Counter({1: 239072, 0: 239072})\n"
          ]
        }
      ]
    },
    {
      "cell_type": "markdown",
      "metadata": {
        "id": "-8Xe1iLTZ7Z1"
      },
      "source": [
        "### **Train-Test Split**"
      ]
    },
    {
      "cell_type": "code",
      "metadata": {
        "colab": {
          "base_uri": "https://localhost:8080/"
        },
        "id": "WxUbVZIsJsol",
        "outputId": "0787b81d-2e9a-4757-a5aa-9106f3a656cd"
      },
      "source": [
        "from sklearn.model_selection import train_test_split\n",
        "x_train, x_test, y_train, y_test = train_test_split(x_train_smote, y_train_smote, test_size=0.2, random_state=100, stratify=y_train_smote)\n",
        "print(x_train.shape, x_test.shape, y_train.shape, y_test.shape)"
      ],
      "execution_count": null,
      "outputs": [
        {
          "output_type": "stream",
          "name": "stdout",
          "text": [
            "(382515, 25) (95629, 25) (382515,) (95629,)\n"
          ]
        }
      ]
    },
    {
      "cell_type": "code",
      "metadata": {
        "id": "eVLobGrO4BmD",
        "colab": {
          "base_uri": "https://localhost:8080/"
        },
        "outputId": "8e9e44d6-0644-4df8-abcd-2712770f3e7a"
      },
      "source": [
        "x_train1, x_test1, y_train1, y_test1 = train_test_split(x_train, y_train, test_size=0.2, random_state=100, stratify=y_train)\n",
        "print(x_train1.shape, x_test1.shape, y_train1.shape, y_test1.shape)"
      ],
      "execution_count": null,
      "outputs": [
        {
          "output_type": "stream",
          "name": "stdout",
          "text": [
            "(306012, 25) (76503, 25) (306012,) (76503,)\n"
          ]
        }
      ]
    },
    {
      "cell_type": "markdown",
      "metadata": {
        "id": "kwx8xwj9aSM4"
      },
      "source": [
        "### **Standardization**"
      ]
    },
    {
      "cell_type": "code",
      "metadata": {
        "id": "goHZEFXpJ1Iw"
      },
      "source": [
        "from sklearn.preprocessing import StandardScaler\n",
        "scaler = StandardScaler()\n",
        "scaler.fit(x_train1)\n",
        "scaler_train = scaler.transform(x_train1)\n",
        "scaler_cv = scaler.transform(x_test1)\n",
        "scaler_test = scaler.transform(x_test)"
      ],
      "execution_count": null,
      "outputs": []
    },
    {
      "cell_type": "markdown",
      "metadata": {
        "id": "IKyit-S6Z23u"
      },
      "source": [
        "### **Model: Logistic Regression**"
      ]
    },
    {
      "cell_type": "code",
      "metadata": {
        "id": "0Fyv3MWlK0YQ"
      },
      "source": [
        "from sklearn.metrics import roc_curve, auc\n",
        "from sklearn import linear_model\n",
        "from sklearn.linear_model import SGDClassifier"
      ],
      "execution_count": null,
      "outputs": []
    },
    {
      "cell_type": "code",
      "metadata": {
        "colab": {
          "base_uri": "https://localhost:8080/"
        },
        "id": "bIAy-jqtLKNM",
        "outputId": "cbbd9a35-e068-4381-ba00-6dd251ce0684"
      },
      "source": [
        "reg=SGDClassifier()\n",
        "reg.fit(scaler_train,y_train1)"
      ],
      "execution_count": null,
      "outputs": [
        {
          "output_type": "execute_result",
          "data": {
            "text/plain": [
              "SGDClassifier(alpha=0.0001, average=False, class_weight=None,\n",
              "              early_stopping=False, epsilon=0.1, eta0=0.0, fit_intercept=True,\n",
              "              l1_ratio=0.15, learning_rate='optimal', loss='hinge',\n",
              "              max_iter=1000, n_iter_no_change=5, n_jobs=None, penalty='l2',\n",
              "              power_t=0.5, random_state=None, shuffle=True, tol=0.001,\n",
              "              validation_fraction=0.1, verbose=0, warm_start=False)"
            ]
          },
          "metadata": {},
          "execution_count": 44
        }
      ]
    },
    {
      "cell_type": "code",
      "metadata": {
        "id": "vDXAwrE_T6Vl"
      },
      "source": [
        "y_train_pred = reg.predict(scaler_train)    \n",
        "y_test_pred = reg.predict(scaler_test)"
      ],
      "execution_count": null,
      "outputs": []
    },
    {
      "cell_type": "code",
      "metadata": {
        "id": "Iah04OqJT6Iq"
      },
      "source": [
        "train_fpr, train_tpr, tr_thresholds = roc_curve(y_train1, y_train_pred)\n",
        "test_fpr, test_tpr, te_thresholds = roc_curve(y_test, y_test_pred)"
      ],
      "execution_count": null,
      "outputs": []
    },
    {
      "cell_type": "code",
      "metadata": {
        "colab": {
          "base_uri": "https://localhost:8080/"
        },
        "id": "665fkpAhUMER",
        "outputId": "febc9e1b-e2ff-4f7c-8b9c-ff5a7c3427c5"
      },
      "source": [
        "print('LogisticRegression Accuracy: %.3f' % auc(test_fpr, test_tpr))"
      ],
      "execution_count": null,
      "outputs": [
        {
          "output_type": "stream",
          "name": "stdout",
          "text": [
            "LogisticRegression Accuracy: 0.678\n"
          ]
        }
      ]
    },
    {
      "cell_type": "code",
      "metadata": {
        "colab": {
          "base_uri": "https://localhost:8080/"
        },
        "id": "k8GqQE_hUM6D",
        "outputId": "a109496d-cbd5-4997-fd40-c788cea7d382"
      },
      "source": [
        "print(\"Confusion Matrix : \\n\", confusion_matrix(y_test, y_test_pred),\"\\n\")\n",
        "print(\"Precision : \",precision_score(y_test, y_test_pred)) \n",
        "print(\"Recall : \",recall_score(y_test, y_test_pred)) \n",
        "print(\"F1- Score : \",f1_score(y_test, y_test_pred),\"\\n\")"
      ],
      "execution_count": null,
      "outputs": [
        {
          "output_type": "stream",
          "name": "stdout",
          "text": [
            "Confusion Matrix : \n",
            " [[31695 16120]\n",
            " [14689 33125]] \n",
            "\n",
            "Precision :  0.6726571225505127\n",
            "Recall :  0.6927887229681683\n",
            "F1- Score :  0.682574516531182 \n",
            "\n"
          ]
        }
      ]
    },
    {
      "cell_type": "markdown",
      "metadata": {
        "id": "8woHKyjMv59D"
      },
      "source": [
        "### **Model: XGBoost**"
      ]
    },
    {
      "cell_type": "code",
      "metadata": {
        "id": "qsgMYL5zYbZ3",
        "colab": {
          "base_uri": "https://localhost:8080/"
        },
        "outputId": "1b954020-e106-469a-e024-d24171a4821a"
      },
      "source": [
        "from sklearn.model_selection import StratifiedKFold \n",
        "\n",
        "k=StratifiedKFold(n_splits=3, shuffle=True)\n",
        "print(k)"
      ],
      "execution_count": null,
      "outputs": [
        {
          "output_type": "stream",
          "name": "stdout",
          "text": [
            "StratifiedKFold(n_splits=3, random_state=None, shuffle=True)\n"
          ]
        }
      ]
    },
    {
      "cell_type": "code",
      "metadata": {
        "id": "mAqSZni0wA2Y"
      },
      "source": [
        "from xgboost.sklearn import XGBClassifier \n",
        "from sklearn.model_selection import StratifiedKFold \n",
        "from sklearn.model_selection import RandomizedSearchCV\n"
      ],
      "execution_count": null,
      "outputs": []
    },
    {
      "cell_type": "code",
      "metadata": {
        "id": "odAjYh5YwC9y",
        "colab": {
          "base_uri": "https://localhost:8080/"
        },
        "outputId": "5766ef49-8131-4ea3-b38a-940f6fe0d28f"
      },
      "source": [
        "model=XGBClassifier()\n",
        "model.fit(scaler_train,y_train1)"
      ],
      "execution_count": null,
      "outputs": [
        {
          "output_type": "execute_result",
          "data": {
            "text/plain": [
              "XGBClassifier(base_score=0.5, booster='gbtree', colsample_bylevel=1,\n",
              "              colsample_bynode=1, colsample_bytree=1, gamma=0,\n",
              "              learning_rate=0.1, max_delta_step=0, max_depth=3,\n",
              "              min_child_weight=1, missing=None, n_estimators=100, n_jobs=1,\n",
              "              nthread=None, objective='binary:logistic', random_state=0,\n",
              "              reg_alpha=0, reg_lambda=1, scale_pos_weight=1, seed=None,\n",
              "              silent=None, subsample=1, verbosity=1)"
            ]
          },
          "metadata": {},
          "execution_count": 51
        }
      ]
    },
    {
      "cell_type": "code",
      "metadata": {
        "id": "9Ba03vPgsUwf"
      },
      "source": [
        "y_train_pred = model.predict(scaler_train)    \n",
        "y_test_pred = model.predict(scaler_test)"
      ],
      "execution_count": null,
      "outputs": []
    },
    {
      "cell_type": "code",
      "metadata": {
        "id": "xdsLm4oRwfK5"
      },
      "source": [
        "train_fpr, train_tpr, tr_thresholds = roc_curve(y_train1, y_train_pred)\n",
        "test_fpr, test_tpr, te_thresholds = roc_curve(y_test, y_test_pred)"
      ],
      "execution_count": null,
      "outputs": []
    },
    {
      "cell_type": "code",
      "metadata": {
        "colab": {
          "base_uri": "https://localhost:8080/"
        },
        "id": "M7WbS99KtbEF",
        "outputId": "7f699cda-e8d8-4e70-e6b9-9dd13f175441"
      },
      "source": [
        "print(\"Confusion Matrix : \\n\", confusion_matrix(y_test, y_test_pred),\"\\n\")\n",
        "print(\"Precision : \",precision_score(y_test, y_test_pred)) \n",
        "print(\"Recall : \",recall_score(y_test, y_test_pred)) \n",
        "print(\"F1- Score : \",f1_score(y_test, y_test_pred),\"\\n\") "
      ],
      "execution_count": null,
      "outputs": [
        {
          "output_type": "stream",
          "name": "stdout",
          "text": [
            "Confusion Matrix : \n",
            " [[46508  1307]\n",
            " [ 5516 42298]] \n",
            "\n",
            "Precision :  0.9700263731223484\n",
            "Recall :  0.8846362989919271\n",
            "F1- Score :  0.9253656242137849 \n",
            "\n"
          ]
        }
      ]
    },
    {
      "cell_type": "code",
      "metadata": {
        "id": "X7pYrnwMwe_3",
        "colab": {
          "base_uri": "https://localhost:8080/"
        },
        "outputId": "7e0874f0-e54f-4f44-860a-e2f0969d08f5"
      },
      "source": [
        "print('XGBoost Accuracy: %.3f' % auc(test_fpr, test_tpr))"
      ],
      "execution_count": null,
      "outputs": [
        {
          "output_type": "stream",
          "name": "stdout",
          "text": [
            "XGBoost Accuracy: 0.929\n"
          ]
        }
      ]
    },
    {
      "cell_type": "markdown",
      "metadata": {
        "id": "0Z9WACGzvNTA"
      },
      "source": [
        "### **Model: Decision Tree**"
      ]
    },
    {
      "cell_type": "code",
      "metadata": {
        "id": "iceBAX5LvIsO"
      },
      "source": [
        "from sklearn.tree import DecisionTreeClassifier  "
      ],
      "execution_count": null,
      "outputs": []
    },
    {
      "cell_type": "code",
      "metadata": {
        "id": "QDnImF0ovIoT"
      },
      "source": [
        "clf=DecisionTreeClassifier()"
      ],
      "execution_count": null,
      "outputs": []
    },
    {
      "cell_type": "code",
      "metadata": {
        "colab": {
          "base_uri": "https://localhost:8080/"
        },
        "id": "QXcysmCgvIlN",
        "outputId": "4cb91e2b-bb57-44ee-857f-4f3173ec6f51"
      },
      "source": [
        "clf.fit(scaler_train,y_train1)"
      ],
      "execution_count": null,
      "outputs": [
        {
          "output_type": "execute_result",
          "data": {
            "text/plain": [
              "DecisionTreeClassifier(ccp_alpha=0.0, class_weight=None, criterion='gini',\n",
              "                       max_depth=None, max_features=None, max_leaf_nodes=None,\n",
              "                       min_impurity_decrease=0.0, min_impurity_split=None,\n",
              "                       min_samples_leaf=1, min_samples_split=2,\n",
              "                       min_weight_fraction_leaf=0.0, presort='deprecated',\n",
              "                       random_state=None, splitter='best')"
            ]
          },
          "metadata": {},
          "execution_count": 58
        }
      ]
    },
    {
      "cell_type": "code",
      "metadata": {
        "id": "aRxdPSGAvIiL"
      },
      "source": [
        "y_train_pred = clf.predict(scaler_train)    \n",
        "y_test_pred = clf.predict(scaler_test)"
      ],
      "execution_count": null,
      "outputs": []
    },
    {
      "cell_type": "code",
      "metadata": {
        "id": "SM8gTKCSvIe8"
      },
      "source": [
        "train_fpr, train_tpr, tr_thresholds = roc_curve(y_train1, y_train_pred)\n",
        "test_fpr, test_tpr, te_thresholds = roc_curve(y_test, y_test_pred)"
      ],
      "execution_count": null,
      "outputs": []
    },
    {
      "cell_type": "code",
      "metadata": {
        "colab": {
          "base_uri": "https://localhost:8080/"
        },
        "id": "wh8edBKWtdVm",
        "outputId": "400e944f-a7a7-4177-9a4a-765fddf02c42"
      },
      "source": [
        "print(\"Confusion Matrix : \\n\", confusion_matrix(y_test, y_test_pred),\"\\n\")\n",
        "print(\"Precision : \",precision_score(y_test, y_test_pred)) \n",
        "print(\"Recall : \",recall_score(y_test, y_test_pred)) \n",
        "print(\"F1-Score : \",f1_score(y_test, y_test_pred),\"\\n\") "
      ],
      "execution_count": null,
      "outputs": [
        {
          "output_type": "stream",
          "name": "stdout",
          "text": [
            "Confusion Matrix : \n",
            " [[41850  5965]\n",
            " [ 5034 42780]] \n",
            "\n",
            "Precision :  0.8776284747153554\n",
            "Recall :  0.8947170284853808\n",
            "F1-Score :  0.8860903696185752 \n",
            "\n"
          ]
        }
      ]
    },
    {
      "cell_type": "code",
      "metadata": {
        "colab": {
          "base_uri": "https://localhost:8080/"
        },
        "id": "30RLa2vnwM9y",
        "outputId": "96b3a506-9ea5-40e5-fac3-382c2cf6497e"
      },
      "source": [
        "print('Decision Tree Accuracy: %.3f' % auc(test_fpr, test_tpr))"
      ],
      "execution_count": null,
      "outputs": [
        {
          "output_type": "stream",
          "name": "stdout",
          "text": [
            "Decision Tree Accuracy: 0.885\n"
          ]
        }
      ]
    },
    {
      "cell_type": "markdown",
      "metadata": {
        "id": "fMhrH6CYzAtX"
      },
      "source": [
        "### **Model- Random Forest**"
      ]
    },
    {
      "cell_type": "code",
      "metadata": {
        "id": "pZyMn7G6y_1A"
      },
      "source": [
        "from sklearn.ensemble import RandomForestClassifier "
      ],
      "execution_count": null,
      "outputs": []
    },
    {
      "cell_type": "code",
      "metadata": {
        "id": "p7wyT1Z1wSnU"
      },
      "source": [
        "random=RandomForestClassifier()"
      ],
      "execution_count": null,
      "outputs": []
    },
    {
      "cell_type": "code",
      "metadata": {
        "colab": {
          "base_uri": "https://localhost:8080/"
        },
        "id": "MCQErdf80OOh",
        "outputId": "2e3fb699-fcac-45eb-a983-8d9edfe10a19"
      },
      "source": [
        "random.fit(scaler_train,y_train1)"
      ],
      "execution_count": null,
      "outputs": [
        {
          "output_type": "execute_result",
          "data": {
            "text/plain": [
              "RandomForestClassifier(bootstrap=True, ccp_alpha=0.0, class_weight=None,\n",
              "                       criterion='gini', max_depth=None, max_features='auto',\n",
              "                       max_leaf_nodes=None, max_samples=None,\n",
              "                       min_impurity_decrease=0.0, min_impurity_split=None,\n",
              "                       min_samples_leaf=1, min_samples_split=2,\n",
              "                       min_weight_fraction_leaf=0.0, n_estimators=100,\n",
              "                       n_jobs=None, oob_score=False, random_state=None,\n",
              "                       verbose=0, warm_start=False)"
            ]
          },
          "metadata": {},
          "execution_count": 65
        }
      ]
    },
    {
      "cell_type": "code",
      "metadata": {
        "id": "ZT92PhCg0UZH"
      },
      "source": [
        "y_train_pred = random.predict(scaler_train)    \n",
        "y_test_pred = random.predict(scaler_test)"
      ],
      "execution_count": null,
      "outputs": []
    },
    {
      "cell_type": "code",
      "metadata": {
        "id": "v4VJ8eZk0jdf"
      },
      "source": [
        "train_fpr, train_tpr, tr_thresholds = roc_curve(y_train1, y_train_pred)\n",
        "test_fpr, test_tpr, te_thresholds = roc_curve(y_test, y_test_pred)"
      ],
      "execution_count": null,
      "outputs": []
    },
    {
      "cell_type": "code",
      "metadata": {
        "colab": {
          "base_uri": "https://localhost:8080/"
        },
        "id": "d5cv3bOd0jZR",
        "outputId": "ec9f5d27-03ff-4c56-a75d-f5be4345230c"
      },
      "source": [
        "print(\"Confusion Matrix : \\n\", confusion_matrix(y_test, y_test_pred),\"\\n\")\n",
        "print(\"Precision : \",precision_score(y_test, y_test_pred)) \n",
        "print(\"Recall : \",recall_score(y_test, y_test_pred)) \n",
        "print(\"F1- Score : \",f1_score(y_test, y_test_pred),\"\\n\")"
      ],
      "execution_count": null,
      "outputs": [
        {
          "output_type": "stream",
          "name": "stdout",
          "text": [
            "Confusion Matrix : \n",
            " [[46484  1331]\n",
            " [ 4140 43674]] \n",
            "\n",
            "Precision :  0.9704255082768581\n",
            "Recall :  0.913414481114318\n",
            "F1- Score :  0.9410573266249367 \n",
            "\n"
          ]
        }
      ]
    },
    {
      "cell_type": "code",
      "metadata": {
        "colab": {
          "base_uri": "https://localhost:8080/"
        },
        "id": "OiSDHmd60jW1",
        "outputId": "36057621-9599-499e-987e-9da33c3f6156"
      },
      "source": [
        "print('RandomForest Accuracy: %.3f' % auc(test_fpr, test_tpr))"
      ],
      "execution_count": null,
      "outputs": [
        {
          "output_type": "stream",
          "name": "stdout",
          "text": [
            "RandomForest Accuracy: 0.943\n"
          ]
        }
      ]
    },
    {
      "cell_type": "markdown",
      "metadata": {
        "id": "ygZxSR471H3G"
      },
      "source": [
        "## Model Selection"
      ]
    },
    {
      "cell_type": "code",
      "metadata": {
        "colab": {
          "base_uri": "https://localhost:8080/"
        },
        "cellView": "form",
        "id": "F8TnfLf5zcOW",
        "outputId": "6ae3aef3-d2a3-4d79-a8da-fee5be079083"
      },
      "source": [
        "#@title Comparison of models\n",
        "from prettytable import PrettyTable\n",
        "x = PrettyTable()\n",
        "x.field_names = [\"Model\", \"Precision\",'Recall', \"F1 score\", \"Accuracy\"]\n",
        "x.add_row(['Logistic Regression', 0.67, 0.71, 0.70, 0.68])\n",
        "x.add_row(['XGBoost', 0.97, 0.89, 0.93, 0.93])\n",
        "x.add_row(['Random Forest', 0.97, 0.91, 0.94, 0.94])\n",
        "x.add_row(['Decision Tree', 0.87, 0.89, 0.88, 0.88])\n",
        "print(x)"
      ],
      "execution_count": null,
      "outputs": [
        {
          "output_type": "stream",
          "name": "stdout",
          "text": [
            "+---------------------+-----------+--------+----------+----------+\n",
            "|        Model        | Precision | Recall | F1 score | Accuracy |\n",
            "+---------------------+-----------+--------+----------+----------+\n",
            "| Logistic Regression |    0.67   |  0.71  |   0.7    |   0.68   |\n",
            "|       XGBoost       |    0.97   |  0.89  |   0.93   |   0.93   |\n",
            "|    Random Forest    |    0.97   |  0.91  |   0.94   |   0.94   |\n",
            "|    Decision Tree    |    0.87   |  0.89  |   0.88   |   0.88   |\n",
            "+---------------------+-----------+--------+----------+----------+\n"
          ]
        }
      ]
    },
    {
      "cell_type": "markdown",
      "metadata": {
        "id": "puq9XgLQywvs"
      },
      "source": [
        "From above comparison, we choose **Random Forest** as our final model"
      ]
    },
    {
      "cell_type": "code",
      "metadata": {
        "id": "NoonzO8AnuwV"
      },
      "source": [
        ""
      ],
      "execution_count": null,
      "outputs": []
    }
  ]
}